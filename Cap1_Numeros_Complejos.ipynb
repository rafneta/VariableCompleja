{
 "cells": [
  {
   "cell_type": "code",
   "execution_count": 1,
   "metadata": {},
   "outputs": [
    {
     "data": {
      "text/html": [
       "<link href='http://fonts.googleapis.com/css?family=Alegreya+Sans:100,300,400,500,700,800,900,100italic,300italic,400italic,500italic,700italic,800italic,900italic' rel='stylesheet' type='text/css'>\n",
       "<link href='http://fonts.googleapis.com/css?family=Arvo:400,700,400italic' rel='stylesheet' type='text/css'>\n",
       "<link href='http://fonts.googleapis.com/css?family=PT+Mono' rel='stylesheet' type='text/css'>\n",
       "<link href='http://fonts.googleapis.com/css?family=Shadows+Into+Light' rel='stylesheet' type='text/css'>\n",
       "<link href='http://fonts.googleapis.com/css?family=Nixie+One' rel='stylesheet' type='text/css'>\n",
       "<link href='https://fonts.googleapis.com/css?family=Source+Code+Pro' rel='stylesheet' type='text/css'>\n",
       "<style>\n",
       "\n",
       "@font-face {\n",
       "    font-family: \"Computer Modern\";\n",
       "    src: url('http://mirrors.ctan.org/fonts/cm-unicode/fonts/otf/cmunss.otf');\n",
       "}\n",
       "\n",
       "#notebook_panel { /* main background */\n",
       "    background: rgb(255,255,255);/*rgb(245,245,245);*/\n",
       "}\n",
       "\n",
       "div.cell { /* set cell width */\n",
       "    background: rgb(255,255,255);\n",
       "    width: 1000px;/* 850 */\n",
       "    margin-left:auto;\n",
       "    margin-right:auto;\n",
       "\n",
       "}\n",
       "\n",
       "div #notebook { /* centre the content */\n",
       "    background: rgb(255,255,255); /*#fff; white background for content */\n",
       "    width: 1150px;\n",
       "    margin: auto;\n",
       "    margin-left:auto;\n",
       "    margin-right:auto;\n",
       "\n",
       "}\n",
       "\n",
       "#notebook li { /* More space between bullet points */\n",
       "    margin-top:0.8em;\n",
       "}\n",
       "\n",
       "/* draw border around running cells */\n",
       "div.cell.border-box-sizing.code_cell.running { \n",
       "    border: 1px solid #111;\n",
       "}\n",
       "\n",
       "/* Put a solid color box around each cell and its output, visually linking them*/\n",
       "div.cell.code_cell {\n",
       "    background-color: rgb(255,255,255);/*rgb(256,256,256);*/ \n",
       "    border-radius: 0px; \n",
       "    padding: 2em;\n",
       "    margin-left:2em;\n",
       "    margin-top: 2em;\n",
       "    margin-bottom: 2em;\n",
       "    margin-left:auto;\n",
       "    margin-right:auto;\n",
       "    width:1000px;\n",
       "\n",
       "}\n",
       "\n",
       "div.text_cell_render{\n",
       "    font-family: 'Alegreya Sans' sans-serif;\n",
       "    line-height: 140%;\n",
       "    font-size: 130%;\n",
       "    font-weight: 400;\n",
       "    width:850px;\n",
       "    margin-left:auto;\n",
       "    margin-right:auto;\n",
       "    padding-left: 0px;\n",
       "}\n",
       "\n",
       "\n",
       "/* Formatting for header cells */\n",
       ".text_cell_render h1 {\n",
       "    font-family: 'Nixie One', serif;\n",
       "    font-style:regular;\n",
       "    font-weight: 400;    \n",
       "    font-size: 45pt;\n",
       "    line-height: 100%;\n",
       "    color: rgb(0,51,102);\n",
       "    margin-bottom: 0.5em;\n",
       "    margin-top: 0.5em;\n",
       "    display: block;\n",
       "}\n",
       "\n",
       ".text_cell_render h2 {\n",
       "    font-family: 'Nixie One', serif;\n",
       "    font-weight: 400;\n",
       "    font-size: 30pt;\n",
       "    line-height: 100%;\n",
       "    color: rgb(0,51,102);\n",
       "    margin-bottom: 0.1em;\n",
       "    margin-top: 0.3em;\n",
       "    display: block;\n",
       "}\t\n",
       "\n",
       ".text_cell_render h3 {\n",
       "    font-family: 'Nixie One', serif;\n",
       "    margin-top:16px;\n",
       "    font-size: 22pt;\n",
       "    font-weight: 600;\n",
       "    margin-bottom: 3px;\n",
       "    font-style: regular;\n",
       "    color: rgb(102,102,0);\n",
       "}\n",
       "\n",
       ".text_cell_render h4 {    /*Use this for captions*/\n",
       "    font-family: 'Nixie One', serif;\n",
       "    font-size: 14pt;\n",
       "    text-align: center;\n",
       "    margin-top: 0em;\n",
       "    margin-bottom: 2em;\n",
       "    font-style: regular;\n",
       "}\n",
       "\n",
       ".text_cell_render h5 {  /*Use this for small titles*/\n",
       "    font-family: 'Nixie One', sans-serif;\n",
       "    font-weight: 400;\n",
       "    font-size: 16pt;\n",
       "    color: rgb(163,0,0);\n",
       "    font-style: italic;\n",
       "    margin-bottom: .1em;\n",
       "    margin-top: 0.8em;\n",
       "    display: block;\n",
       "}\n",
       "\n",
       ".text_cell_render h6 { /*use this for copyright note*/\n",
       "    font-family: 'PT Mono', sans-serif;\n",
       "    font-weight: 300;\n",
       "    font-size: 9pt;\n",
       "    line-height: 100%;\n",
       "    color: grey;\n",
       "    margin-bottom: 1px;\n",
       "    margin-top: 1px;\n",
       "}\n",
       "\n",
       ".CodeMirror{\n",
       "    font-family: \"Source Code Pro\";\n",
       "    font-size: 90%;\n",
       "}\n",
       "\n",
       ".alert-box {\n",
       "    padding:10px 10px 10px 36px;\n",
       "    margin:5px;\n",
       "}\n",
       "\n",
       ".success {\n",
       "    color:#666600;\n",
       "    background:rgb(240,242,229);\n",
       "}\n",
       "\n",
       "\n",
       ".def {\t\n",
       "    border-style:solid;\n",
       "    border-width:4px;\n",
       "    /*-webkit-border-radius:15px;\n",
       "\tborder-radius: 15px;*/\n",
       "    border-color:rgba(102,194,163,0.9);/**  #366272;#CD853F;/**rgba(112, 156, 169, 0.66);*/\n",
       "    /*background: #366272;rgba(54, 98, 114, 0.9);/*#366272;*/\n",
       "\t/*border-top-left-radius:10%;*/\n",
       "\tcolor:black;\n",
       "\tfont-size: 1em;\n",
       "\t/*box-shadow: 10px 10px 10px #2178a3;*/\n",
       "\t/*overflow:scroll;*/\n",
       "\tpadding: 2% 4% 2% 4%;\n",
       "\tbox-sizing: border-box;\n",
       "\twidth:80%;\n",
       "    margin-left:auto;\n",
       "    margin-right:auto;\n",
       "    margin-bottom:2%;\n",
       "    margin-top:2%; \n",
       "    background:rgba(102,194,163,0.2);/*1(0.40000000596046448, 0.7607843279838562, 0.64705884456634521)*/\n",
       "}\n",
       "\n",
       ".visual {\t\n",
       "    border-style:solid;\n",
       "    border-width:4px;\n",
       "    /*-webkit-border-radius:15px;\n",
       "\tborder-radius: 15px;*/\n",
       "    border-color: rgba(249,140,97,0.9);/*#CD853F ; #366272*#CD853F;/**rgba(112, 156, 169, 0.66);*/\n",
       "    /*background: #366272;rgba(54, 98, 114, 0.9);/*#366272;*/\n",
       "\t/*border-top-left-radius:10%;*/\n",
       "\tcolor:black;\n",
       "\tfont-size: 1em;\n",
       "\t/*box-shadow: 10px 10px 10px #2178a3;*/\n",
       "\t/*overflow:scroll;*/\n",
       "\tpadding: 2% 4% 2% 4%;\n",
       "\tbox-sizing: border-box;\n",
       "\twidth:80%;\n",
       "    margin-left:auto;\n",
       "    margin-right:auto;\n",
       "    margin-bottom:2%;\n",
       "    margin-top:2%; \n",
       "    background:rgba(249,140,97,0.2) /*2(0.98131487965583808, 0.55538641635109398, 0.38740485135246722)*/;\n",
       "}\n",
       "\n",
       "\n",
       ".problemas {\t\n",
       "    border-style:solid;\n",
       "    border-width:4px;\n",
       "    /*-webkit-border-radius:15px;\n",
       "\tborder-radius: 15px;*/\n",
       "    border-color:rgba(140,158,201,0.9);/**  #366272;#CD853F;/**rgba(112, 156, 169, 0.66);*/\n",
       "    /*background: #366272;rgba(54, 98, 114, 0.9);/*#366272;*/\n",
       "\t/*border-top-left-radius:10%;*/\n",
       "\tcolor:black;\n",
       "\tfont-size: 1em;\n",
       "\t/*box-shadow: 10px 10px 10px #2178a3;*/\n",
       "\t/*overflow:scroll;*/\n",
       "\tpadding: 2% 4% 2% 4%;\n",
       "\tbox-sizing: border-box;\n",
       "\twidth:95%;\n",
       "    margin-left:auto;\n",
       "    margin-right:auto;\n",
       "    margin-bottom:2%;\n",
       "    margin-top:2%; \n",
       "    background:rgba(140,158,201,0.2);/*3(0.55432528607985565, 0.62711267120697922, 0.79595541393055635)*/\n",
       "}\n",
       "\n",
       "\n",
       "\n",
       "\n",
       ".text_cell_render p {\n",
       "\tfont-size: 1.0em;\n",
       "\tline-height: 1.6;\n",
       "\tfont-weight: 300;\n",
       "\ttext-align: justify;\n",
       "    color: black;\n",
       "}\n",
       "\n",
       "div pre\n",
       "{\n",
       "    color: red;\n",
       "    padding: 0.5em;\n",
       "    /*margin-left:1em;\n",
       "    margin-top: 1em;*/\n",
       "    margin-left:auto;\n",
       "    margin-right:auto;\n",
       "    }\n",
       "\n",
       "\n",
       ".polaroid {\n",
       "  width: 80%;\n",
       "  background-color: white;\n",
       "  box-shadow: 0 4px 8px 0 rgba(0, 0, 0, 0.2), 0 6px 20px 0 rgba(0, 0, 0, 0.19);\n",
       "  margin-bottom: 25px;\n",
       "    margin-left:auto;\n",
       "    margin-right:auto;\n",
       "    margin-top:2%;\n",
       "}\n",
       "\n",
       ".despolaroid p{\n",
       "  text-align: center;\n",
       "  padding: 10px 20px;\n",
       "    margin-left:auto;\n",
       "    margin-right:auto;\n",
       "    font-size: 0.8em;\n",
       "\tline-height: 1;\n",
       "\tfont-weight: 200;\n",
       "\n",
       "}\n",
       "\n",
       "\n",
       " img {\n",
       "    /*display: block;\n",
       "    margin: auto;*/\n",
       "    width: 95%;\n",
       "    border-bottom: 4px solid #ddd;\n",
       "    padding: 5px;\n",
       "}\n",
       "\n",
       "\n",
       "</style>\n",
       "<script>\n",
       "    MathJax.Hub.Config({\n",
       "                        TeX: {\n",
       "                           extensions: [\"AMSmath.js\"],\n",
       "                           equationNumbers: { autoNumber: \"AMS\", useLabelIds: true}\n",
       "                           },\n",
       "                tex2jax: {\n",
       "                    inlineMath: [ ['$','$'], [\"\\\\(\",\"\\\\)\"] ],\n",
       "                    displayMath: [ ['$$','$$'], [\"\\\\[\",\"\\\\]\"] ]\n",
       "                },\n",
       "                displayAlign: 'center', // Change this to 'center' to center equations.\n",
       "                \"HTML-CSS\": {\n",
       "                    styles: {'.MathJax_Display': {\"margin\": 4}}\n",
       "                }\n",
       "});\n",
       "</script>"
      ],
      "text/plain": [
       "<IPython.core.display.HTML object>"
      ]
     },
     "execution_count": 1,
     "metadata": {},
     "output_type": "execute_result"
    }
   ],
   "source": [
    "from Programas.Cap1 import *\n",
    "from IPython.core.display import HTML\n",
    "css_file = 'Varios/estilo1.css'\n",
    "HTML(open(css_file, \"r\").read())"
   ]
  },
  {
   "cell_type": "markdown",
   "metadata": {},
   "source": [
    "### Índice\n",
    "\n",
    "1. [Números complejos y el plano complejo](#1.-Números-complejos-y-el-plano-complejo)\n",
    "  - 1.1 [Operaciones con parejas ordenadas](#1.1-Operaciones-con-parejas-ordenadas)\n",
    "    - 1.1.1 [Conjugación, Inverso multiplicativo e Inverso aditivo](#1.1.1-Conjugación,-Inverso-multiplicativo-e-Inverso-aditivo)\n",
    "    - 1.1.2 [Suma y Resta](#1.1.2-Suma-y-Resta)\n",
    "    - 1.1.3 [Producto y División](#1.1.3--Producto-y-División)\n",
    "  - 1.2 [Campo de los números complejos $\\mathbb{C}$](#1.2-Campo-de-los-números-complejos-$\\mathbb{C}$)\n",
    "    - 1.2.1 [$\\mathbb{C}$ como grupo beliano aditivo](#1.2.1--$\\mathbb{C}$-como-grupo-abeliano-aditivo)\n"
   ]
  },
  {
   "cell_type": "markdown",
   "metadata": {},
   "source": [
    "# 1. Números complejos y el plano complejo\n",
    "\n",
    "\n",
    "<p>\n",
    "El objetivo principal es tomar un conjunto de parejas ordenadas de números reales $\\mathbb{R}^2$ y definir dos operaciones en este conjunto, a una de estas operaciones la llamaremos suma $(+)$ y a la otra producto $(*)$. La estructura $(\\mathbb{R}^2,+,*)$ recibirá el nombre de campo de los números complejos. El campo de los numeros complejos tiene propiedades similares a los numeros reales $\\mathbb{R}$ además presenta nuevas porpiedades que presisamente lo hacen importante. Observaremos que se pueden hacer unos ajustes de notación de tal manera que a las parejas de números reales les podemos asignar un elemento en fomra de suma, es decir, $(a,b)\\leftrightarrow a+bi$, tendremos la misma estructura algebraica pero con diferentes simbolos, así podremos escribir a el campo de los numeros complejos como la estructura $(\\mathbb{C},+,*)$ donde $\\mathbb{C}=\\left\\lbrace a+bi: a,b\\in\\mathbb{R}\\right\\rbrace$, una vez que se defina el producto y se realizen las observaciones correspondientes será natural observar que $i^2=-1$.\n",
    "</p>\n",
    "\n",
    "## 1.1 Operaciones con parejas ordenadas\n",
    "\n",
    "<p>\n",
    "Tomemos el producto cartesiano $\\mathbb{R}^2=\\mathbb{R}\\times\\mathbb{R}=\\left\\lbrace(a,b): a,b\\in\\mathbb R\\right\\rbrace$, un elemento que pertenezca a este conjunto podría ser $z\\in\\mathbb{R}^2$ con $z=(6.6,-8.6)$. Recordemos que $(a,b)\\neq (b,a)$ por ejemplo $(6.6,-8.6)\\neq (-8.6,6.6)$ de aquí reciben el nombre de parejas ordenadas, recordemos también que $(a,b)=(c,d)$ si y sólo si $a=c$ y $b=d$.\n",
    "</p>\n",
    "\n",
    "<div class=\"polaroid\">\n",
    "   <img src=\"./Varios/nc.svg\" alt=\"Pareja\">\n",
    "  <div class=\"despolaroid\">\n",
    "    <p>Representación geometrica de una pareja ordenada</p>\n",
    "  </div>\n",
    "</div>\n",
    "\n",
    " \n",
    "\n",
    "<p>\n",
    "Como se sabe se puede asignar una representación geometrica en un plano al conjunto antes definido, la convención es asociar la primer componente (de izquierda a derecha) al eje horizontal y la segunda componente al eje vertical y dibujar en la intersección dada, ya sea un punto, un segmento de linea recta desde el origen, o ambos; depende a que se quiera hacer referencia. \n",
    "</p>\n",
    "\n",
    "\n",
    "##### Visualización\n",
    "\n",
    "<div class=\"visual\">\n",
    "<p>\n",
    "Para obervar la representación gráfica ejecute la siguiente celda con la instrucción\n",
    "</p>\n",
    "\n",
    "<pre>\n",
    " nc(6.6,-8.6)\n",
    "</pre>\n",
    "\n",
    "<p>\n",
    "Se gráfica el elemento correspondiente y se puede modificar al interactuar con la interfaz,\n",
    "</p>\n",
    "</div>\n",
    "\n"
   ]
  },
  {
   "cell_type": "code",
   "execution_count": 2,
   "metadata": {},
   "outputs": [
    {
     "data": {
      "application/vnd.jupyter.widget-view+json": {
       "model_id": "a9ddce327d4e4b24914b028ee3a8d7bc",
       "version_major": 2,
       "version_minor": 0
      },
      "text/plain": [
       "Output()"
      ]
     },
     "metadata": {},
     "output_type": "display_data"
    },
    {
     "data": {
      "application/vnd.jupyter.widget-view+json": {
       "model_id": "1d2ac806919648b794c67f1cfaf74614",
       "version_major": 2,
       "version_minor": 0
      },
      "text/plain": [
       "VGFiKGNoaWxkcmVuPShIQm94KGNoaWxkcmVuPShWQm94KGNoaWxkcmVuPShCb3goY2hpbGRyZW49KEZsb2F0U2xpZGVyKHZhbHVlPTcuNSwgY29udGludW91c191cGRhdGU9RmFsc2UsIGRlc2PigKY=\n"
      ]
     },
     "metadata": {},
     "output_type": "display_data"
    }
   ],
   "source": [
    "nc(6.6,-8.6)"
   ]
  },
  {
   "cell_type": "markdown",
   "metadata": {},
   "source": [
    "\n",
    "<p>\n",
    "Se definirán tres operaciones unarias que serán de importancia para definir al campo de los números complejos, en este caso $f$ será una operación unaria si es una función de tal manera que $f:\\mathbb{R}^2\\rightarrow\\mathbb{R}^2$, es decir, toma una pareja ordenada y regresa otra pareja ordenada.\n",
    "</p>\n",
    "\n",
    "### 1.1.1 Conjugación, Inverso multiplicativo e Inverso aditivo\n",
    "\n",
    "<div class='def'>\n",
    "<strong>Definición 1.1</strong> <em>[Conjugación]</em>\n",
    "<p>\n",
    " Sea $z=(a,b)\\in\\mathbb{R}^2$ la operación conjugación $f_c:\\mathbb{R}^2\\rightarrow\\mathbb{R}^2$ se define como \n",
    " $$f_c\\left(z\\right)=(a,-b)$$\n",
    " o utilizando una notación abreviada,\n",
    " $$\\bar z=(a,-b)$$\n",
    "</p>\n",
    "</div>\n",
    "\n",
    "<p>\n",
    "Tenemos dos notaciones para referirnos a la operación conjugación que usaremos de manera insdistinta, aunque la mayor parte de las veces usaremos la notación simplificada. Cabe mencionar que algunos autores utilizan un asterisco para la notación simplificada, esto es, $\\bar z\\equiv z^*$. Podría parecer un poco rebuscado definir la notación de $f_c$ si contamos con la simplificada, pero para algunos conceptos es importante. \n",
    "</p>\n",
    "\n",
    "<p>\n",
    "Observemos que la operación conjugación toma una pareja de números reales y la <em>Transforma</em> en una nueva pareja donde la segunda componente cambia de signo.\n",
    "</p>\n",
    "\n",
    "<div class=\"polaroid\">\n",
    "   <img src=\"./Varios/ncconjugado.svg\" alt=\"Conjugado\">\n",
    "  <div class=\"despolaroid\">\n",
    "    <p>Una pareja ordenada y su conjugado</p>\n",
    "  </div>\n",
    "</div>\n",
    "\n",
    "\n",
    "<p>\n",
    "Por ejemplo:<br>\n",
    "</p>\n",
    "<p>\n",
    "Si $z=(3,0)$ entonces $\\bar z=(3,0)$, <br>\n",
    "\n",
    "Si $z=(-2.4,-9.8)$ entonces $f_c(z)=(-2.4,9.8)$, <br>\n",
    "\n",
    "Si $z=(0,5.7)$ entonces $\\bar z=(0,-5.7)$, <br>\n",
    "\n",
    "Si $z=(0,0)$ entonces $\\bar z=(0,0)$,\n",
    "</p>\n",
    "\n",
    "\n",
    "##### Visualización\n",
    "<div class=\"visual\">\n",
    "<p>\n",
    "Para obervar la representación gráfica ejecute la siguiente celda con la instrucción\n",
    "</p>\n",
    "<pre>\n",
    " ncconjugado(6.6,-8.6)\n",
    "</pre>\n",
    "<p>\n",
    "Se gráfica el elemento correspondiente y se puede modificar al interactuar con la interfaz,\n",
    "</p>\n",
    "</div>"
   ]
  },
  {
   "cell_type": "code",
   "execution_count": 3,
   "metadata": {},
   "outputs": [
    {
     "data": {
      "application/vnd.jupyter.widget-view+json": {
       "model_id": "05f18a99f58e4bf88e3a32d2403db4cb",
       "version_major": 2,
       "version_minor": 0
      },
      "text/plain": [
       "A Jupyter Widget"
      ]
     },
     "metadata": {},
     "output_type": "display_data"
    },
    {
     "data": {
      "application/vnd.jupyter.widget-view+json": {
       "model_id": "5ba651e8cc944c47b2784d33384e6506",
       "version_major": 2,
       "version_minor": 0
      },
      "text/plain": [
       "A Jupyter Widget"
      ]
     },
     "metadata": {},
     "output_type": "display_data"
    }
   ],
   "source": [
    "ncconjugado(6.6,-8.6)"
   ]
  },
  {
   "cell_type": "markdown",
   "metadata": {},
   "source": [
    "<p>\n",
    "Observamos que la geometría del elemento conjugado es un reflexión sobre el eje horizontal del elemento \"original\", es decir, $z$ y $\\bar z$ son simétricos respecto al eje horizontal, si un elemento esta por arriba del eje horizontal su conjugado estará por debajo, de forma similar si esta por abajo su conjugado estará por arriba del eje horizontal, ¿Qué sucede con la geometria del conjugado de un elemento, si dicho elemento tiene gráfica sobre el eje horizontal?</p>\n",
    "\n",
    "\n",
    "<p>Ahora definimos la operación unaria inverso multiplicativo y al igual que la operación conjugado representa una transformación cuyo resultado es cambiar de signo al segundo elemento de la pareja y dividir cada elemento entre la suma de los cuadrados de las componentes, esto impone la restricción que el dominio de la operación no contenga el origen del plano (para no dividir entre cero)</p>\n",
    "\n",
    "\n",
    "<div class='def'>\n",
    "<strong>Definición 1.2</strong> <em>[Inverso multiplicativo]</em>\n",
    "<p>\n",
    " Sea $z=(a,b)\\in\\mathbb{R}^2-\\{(0,0)\\}$ la operación inverso aditivo $f_{ia}:\\mathbb{R}^2-\\{(0,0)\\} \\rightarrow\\mathbb{R}^2$ se define como \n",
    " $$f_{im}\\left(z\\right)=\\left(\\frac{a}{a^2+b^2},\\frac{-b}{a^2+b^2}\\right)$$\n",
    " o utilizando una notación abreviada,\n",
    " $$z^{-1}=\\frac{1}{z}=\\left(\\frac{a}{a^2+b^2},\\frac{-b}{a^2+b^2}\\right)$$\n",
    "</p>\n",
    "</div>\n",
    "<p>\n",
    "De igual manera tenemos dos notaciones para la operación inverso multiplicativo, la mayor parte de las veces utilizaremos la notación abreviada.\n",
    "</p>\n",
    "<div class=\"polaroid\">\n",
    "   <img src=\"./Varios/ncinversomul.svg\" alt=\"inverso multiplicativo\">\n",
    "  <div class=\"despolaroid\">\n",
    "    <p>Una pareja ordenada y su inverso multiplicativo</p>\n",
    "  </div>\n",
    "</div>\n",
    "\n",
    "\n",
    "<p>\n",
    "Por ejemplo:<br>\n",
    "</p>\n",
    "\n",
    "<p>\n",
    "Si $z=(7,0)$ entonces $z^{-1}=(\\frac{1}{7},0)$, <br>\n",
    "\n",
    "Si $z=(-6.4,-1.8)$ entonces $f_{im}(z)=(-0.14,0.04)$, <br>\n",
    "\n",
    "Si $z=(0,2.7)$ entonces $\\frac{1}{z}=(0,-0.37)$, <br>\n",
    "\n",
    "Si $z=(0,0)$ entonces $z^{-1}$ no esta definido, <br>\n",
    "\n",
    "Si $z=(1,2)$ entonces $\\frac{1}{z}=(0.2,-0.4)$, \n",
    "</p>\n",
    "\n",
    "\n",
    "##### Visualización\n",
    "\n",
    "<div class=\"visual\">\n",
    "<p>\n",
    "Para obervar la representación gráfica ejecute la siguiente celda con la instrucción\n",
    "</p>\n",
    "\n",
    "<pre>\n",
    " ncinversomul(1,2)\n",
    "</pre>\n",
    "\n",
    "<p>\n",
    "Se gráfica el elemento correspondiente y se puede modificar al interactuar con la interfaz,\n",
    "</p>\n",
    "</div>\n",
    "\n",
    "\n"
   ]
  },
  {
   "cell_type": "code",
   "execution_count": 4,
   "metadata": {},
   "outputs": [
    {
     "data": {
      "application/vnd.jupyter.widget-view+json": {
       "model_id": "5d5a3fba4cce448c991bd3f681d8bcfc",
       "version_major": 2,
       "version_minor": 0
      },
      "text/plain": [
       "A Jupyter Widget"
      ]
     },
     "metadata": {},
     "output_type": "display_data"
    },
    {
     "data": {
      "application/vnd.jupyter.widget-view+json": {
       "model_id": "0c3ba472d0bb4851ac03fff18986b19f",
       "version_major": 2,
       "version_minor": 0
      },
      "text/plain": [
       "A Jupyter Widget"
      ]
     },
     "metadata": {},
     "output_type": "display_data"
    }
   ],
   "source": [
    "ncinversomul(1,2)"
   ]
  },
  {
   "cell_type": "markdown",
   "metadata": {},
   "source": [
    "\n",
    "<p>Ahora definimos la operación unaria inverso aditivo y al igual que la operaciones anteriores representa una transformación cuyo resultado es cambiar de signo ambos elementos de la pareja, ademas el inverso aditivo resulta ser simetrico respecto al origen con la pareja original, en otras palabras, las ubicaciones geometricas de una pareja y de su inverso aditivo estarán en cuadrantes opuestos por el vertice</p>\n",
    "\n",
    "\n",
    "<div class='def'>\n",
    "<strong>Definición 1.2</strong> <em>[Inverso aditivo]</em>\n",
    "<p>\n",
    " Sea $z=(a,b)\\in\\mathbb{R}^2$ la operación inverso aditivo $f_{ia}:\\mathbb{R}^2\\rightarrow\\mathbb{R}^2$ se define como \n",
    " $$f_{ia}\\left(z\\right)=(-a,-b)$$\n",
    " o utilizando una notación abreviada,\n",
    " $$-z=(-a,-b)$$\n",
    "</p>\n",
    "</div>\n",
    "\n",
    "<p>De igual manera tenemos dos notaciones para la operación inverso aditivo, la mayor parte de las veces utilizaremos la notación abreviada.\n",
    "</p>\n",
    "<div class=\"polaroid\">\n",
    "   <img src=\"./Varios/ncinversoadi.svg\" alt=\"inverso aditivo\">\n",
    "  <div class=\"despolaroid\">\n",
    "    <p>Una pareja ordenada y su inverso aditivo</p>\n",
    "  </div>\n",
    "</div>\n",
    "\n",
    "\n",
    "<p>\n",
    "Por ejemplo:<br>\n",
    "</p>\n",
    "\n",
    "<p>\n",
    "Si $z=(-2.5,0)$ entonces $-z=(2.5,0)$, <br>\n",
    "\n",
    "Si $z=(2.4,3.5)$ entonces $f_{ia}(z)=(-2.4,-3.5)$, <br>\n",
    "\n",
    "Si $z=(0,5)$ entonces $- z=(0,-5)$, <br>\n",
    "\n",
    "Si $z=(0,0)$ entonces $-z=(0,0)$, <br>\n",
    "\n",
    "Si $z=(-1.5,2)$ entonces $-z=(1.5,-2)$, \n",
    "</p>\n",
    "\n",
    "\n",
    "##### Visualización\n",
    "\n",
    "<div class=\"visual\">\n",
    "<p>\n",
    "Para obervar la representación gráfica ejecute la siguiente celda con la instrucción\n",
    "</p>\n",
    "\n",
    "<pre>\n",
    " ncinversoadi(-1.5,2)\n",
    "</pre>\n",
    "\n",
    "<p>\n",
    "Se gráfica el elemento correspondiente y se puede modificar al interactuar con la interfaz,\n",
    "</p>\n",
    "</div>\n",
    "\n"
   ]
  },
  {
   "cell_type": "code",
   "execution_count": 5,
   "metadata": {},
   "outputs": [
    {
     "data": {
      "application/vnd.jupyter.widget-view+json": {
       "model_id": "7e1266a0c26f4b9cba6c1fff9c7b577a",
       "version_major": 2,
       "version_minor": 0
      },
      "text/plain": [
       "A Jupyter Widget"
      ]
     },
     "metadata": {},
     "output_type": "display_data"
    },
    {
     "data": {
      "application/vnd.jupyter.widget-view+json": {
       "model_id": "68352fbe94fe47e18aa67a00b95188a2",
       "version_major": 2,
       "version_minor": 0
      },
      "text/plain": [
       "A Jupyter Widget"
      ]
     },
     "metadata": {},
     "output_type": "display_data"
    }
   ],
   "source": [
    "ncinversoadi(-1.5,2)"
   ]
  },
  {
   "cell_type": "markdown",
   "metadata": {},
   "source": [
    "<p>\n",
    "Ahora se definirán dos operaciones binarias, en este caso $f$ será una operación binaria si es una función de tal manera que $f:\\mathbb{R}^2\\times\\mathbb{R}^2\\rightarrow\\mathbb{R}^2$, es decir, toma dos parejas ordenadas y regresa una pareja.\n",
    "</p>\n",
    "\n",
    "<div class='problemas'>\n",
    "<strong>Problemas</strong> \n",
    "<ol>\n",
    "<li><p>hola  </p> </li>\n",
    "</ol>\n",
    "</div>\n",
    "\n",
    "\n",
    "### 1.1.2 Suma y Resta\n",
    "<p>\n",
    "Recordemos que nuestro objetivo es definir el campo de los números complejos, las operaciones de conjugación, inverso multiplicativo y aditivo jugaran un papel importante al momento de hacer operaciones aritmeticas entre numeros complejós; pero la suma es una de las dos operaciones que definene la estructura algebraica a la cual queremos llegar.\n",
    "</p>\n",
    "<div class='def'>\n",
    "<strong>Definición 1.3</strong> <em>[Suma]</em>\n",
    "<p>\n",
    " Sean $z_1=(a,b)\\in\\mathbb{R}^2$ y $z_2=(c,d)\\in\\mathbb{R}^2$ la operación suma $f_s:\\mathbb{R}^2\\times\\mathbb{R}^2\\rightarrow\\mathbb{R}^2$ se define como \n",
    " $$f_s\\left(z_1,z_2\\right)=(a+c,b+d)$$\n",
    " o utilizando una notación abreviada,\n",
    " $$z_1+z_2=(a+c,b+d)$$\n",
    "</p>\n",
    "</div>\n",
    "\n",
    "<p>\n",
    "Estrictamente hablando cuando se utiliza la notación simplificada se tendría que especificar $z_1+_cz_2=(a+c,b+d)$ donde $+_c$ es el simbolo que se esta definiendo y $+$ es la suma que sabemos realizar de números relaes, para no cargar la notación preferimos escribir esta aclaración. Nuevamente tenemos dos notaciones, usualmente se estará trabajando con la notación simplificada. La operación suma toma dos parejas de números reales y las transforma en una solo pareja de números reales, donde cada componente es la suma  posición a posición de las parejas iniciales.\n",
    "</p>\n",
    "\n",
    "<div class=\"polaroid\">\n",
    "   <img src=\"./Varios/ncsuma.svg\" alt=\"suma\">\n",
    "  <div class=\"despolaroid\">\n",
    "    <p>Suma de parejas ordenadas</p>\n",
    "  </div>\n",
    "</div>\n",
    "\n",
    "\n",
    "<p>\n",
    "Por ejemplo:<br>\n",
    "</p>\n",
    "\n",
    "\n",
    "<p>\n",
    "Si $z_1=(1,0)$ y $z_2=(6.8,0)$ entonces $z_1+z_2=(7.8,0)$, <br>\n",
    "\n",
    "Si $z_1=(-6.4,-1.8)$ y $z_2=(1,-2)$ entonces $f_{s}(z_1,z_2)=(-5.4,-3.8)$, <br>\n",
    "\n",
    "Si $z_1=(0,3.7)$ y $z_2=(0,2.3)$ entonces $z_1+z_2=(0,6)$, <br>\n",
    "\n",
    "Si $z_1=(0,0)$ y $z_2=(0,0)$ entonces $z_1+z_2=(0,0)$, <br>\n",
    "\n",
    "Si $z_1=(-2,2)$ y $z_2=(4,2)$ entonces $z_1+z_2=(2,4)$,\n",
    "</p>\n",
    "\n",
    "<p>La suma tiene una interpretación interesante cuando se realiza de forma geometrica, se puede observar en la siguitente visualización que los sumandos son los lados de un paralelogramo y el resultado de la suma es es la diagonal de dicho paralelogramo </p>\n",
    "\n",
    "\n",
    "##### Visualización\n",
    "\n",
    "<div class=\"visual\">\n",
    "<p>\n",
    "Para obervar la representación gráfica ejecute la siguiente celda con la instrucción\n",
    "</p>\n",
    "\n",
    "<pre>\n",
    " ncsuma(-2,2,4,2)\n",
    "</pre>\n",
    "\n",
    "<p>\n",
    "Se gráfica el elemento correspondiente y se puede modificar al interactuar con la interfaz,\n",
    "</p>\n",
    "</div>\n"
   ]
  },
  {
   "cell_type": "code",
   "execution_count": 6,
   "metadata": {},
   "outputs": [
    {
     "data": {
      "application/vnd.jupyter.widget-view+json": {
       "model_id": "bf915b963201497f8ba1ecb17a3c653b",
       "version_major": 2,
       "version_minor": 0
      },
      "text/plain": [
       "A Jupyter Widget"
      ]
     },
     "metadata": {},
     "output_type": "display_data"
    },
    {
     "data": {
      "application/vnd.jupyter.widget-view+json": {
       "model_id": "fee517ff37024969b61f2d55db04a10c",
       "version_major": 2,
       "version_minor": 0
      },
      "text/plain": [
       "A Jupyter Widget"
      ]
     },
     "metadata": {},
     "output_type": "display_data"
    }
   ],
   "source": [
    "ncsuma(-2,2,4,2)"
   ]
  },
  {
   "cell_type": "markdown",
   "metadata": {},
   "source": [
    "<p>Ahora se definira la resta y observaremos que es una consecuencia del inverso aditivo y la suma </p>\n",
    "\n",
    "<div class='def'>\n",
    "<strong>Definición 1.3</strong> <em>[Resta]</em>\n",
    "<p>\n",
    " Sean $z_1=(a,b)\\in\\mathbb{R}^2$ y $z_2=(c,d)\\in\\mathbb{R}^2$ la operación resta $f_r:\\mathbb{R}^2\\times\\mathbb{R}^2\\rightarrow\\mathbb{R}^2$ se define como \n",
    " $$f_r\\left(z_1,z_2\\right)=(a-c,b-c)$$\n",
    " o utilizando una notación abreviada,\n",
    " $$z_1-z_2=(a-c,b-d)$$\n",
    "</p>\n",
    "</div>\n",
    "\n",
    "<p>Observemos lo siguiente</p>\n",
    "\n",
    "\\begin{equation}\n",
    "f_r\\left(z_1,z_2\\right)=f_s(z_1,f_{ia}(z_2))\n",
    "\\end{equation}\n",
    "\n",
    "<p>en términos de la notación simplificada</p>\n",
    "\n",
    "\\begin{equation}\n",
    "z_1-z_2=z_1+(-z_2)\n",
    "\\end{equation}\n",
    "\n",
    "<p>En palabras: <u><big><em>La resta de parejas ordenadas $z_1,\\,z_2$ es la suma de $z_1$ con el inverso aditivo $z_2$ </em></big></u></p>\n",
    "\n",
    "<p>Es decir, la resta no es una \"nueva\" operación, es una operación especifica de una operación unaria y otra binaria que ya se han definido. </p>\n",
    "\n",
    "\n",
    "<div class=\"polaroid\">\n",
    "   <img src=\"./Varios/ncresta.svg\" alt=\"resta\">\n",
    "  <div class=\"despolaroid\">\n",
    "    <p>Resta de parejas ordenadas</p>\n",
    "  </div>\n",
    "</div>\n",
    "\n",
    "\n",
    "<p>\n",
    "Por ejemplo:<br>\n",
    "</p>\n",
    "\n",
    "\n",
    "<p>\n",
    "Si $z_1=(-2,0)$ y $z_2=(5.1,0)$ entonces $z_1-z_2=(-7.1,0)$, <br>\n",
    "\n",
    "Si $z_1=(-2.4,-2.2)$ y $z_2=(2,-1.5)$ entonces $f_{r}(z_1,z_2)=(-4.4,-0.7)$, <br>\n",
    "\n",
    "Si $z_1=(0,2.5)$ y $z_2=(0,2.3)$ entonces $z_1-z_2=(0,-0.2)$, <br>\n",
    "\n",
    "Si $z_1=(0,0)$ y $z_2=(0,0)$ entonces $z_1-z_2=(0,0)$, <br>\n",
    "\n",
    "Si $z_1=(-2,2)$ y $z_2=(4,2)$ entonces $z_1-z_2=(-6,0)$,\n",
    "</p>\n",
    "\n",
    "<p>Se puede obseervar en la siguinete visualzación que la resta $z_1-z_2$ es la suma de $z_1$ con el inverso aditivo de $z_2$ </p>\n",
    "\n",
    "\n",
    "##### Visualización\n",
    "\n",
    "<div class=\"visual\">\n",
    "<p>\n",
    "Para obervar la representación gráfica ejecute la siguiente celda con la instrucción\n",
    "</p>\n",
    "\n",
    "<pre>\n",
    " ncresta(-2,2,4,2)\n",
    "</pre>\n",
    "\n",
    "<p>\n",
    "Se gráfica el elemento correspondiente y se puede modificar al interactuar con la interfaz,\n",
    "</p>\n",
    "</div>"
   ]
  },
  {
   "cell_type": "code",
   "execution_count": 7,
   "metadata": {},
   "outputs": [
    {
     "data": {
      "application/vnd.jupyter.widget-view+json": {
       "model_id": "630eb84294064ce099374bf56ae83313",
       "version_major": 2,
       "version_minor": 0
      },
      "text/plain": [
       "A Jupyter Widget"
      ]
     },
     "metadata": {},
     "output_type": "display_data"
    },
    {
     "data": {
      "application/vnd.jupyter.widget-view+json": {
       "model_id": "3cacc40d4a034973b7f52361e8289923",
       "version_major": 2,
       "version_minor": 0
      },
      "text/plain": [
       "A Jupyter Widget"
      ]
     },
     "metadata": {},
     "output_type": "display_data"
    }
   ],
   "source": [
    "ncresta(-2,2,4,2)"
   ]
  },
  {
   "cell_type": "markdown",
   "metadata": {},
   "source": [
    "\n",
    "<div class='problemas'>\n",
    "<strong>Problemas</strong> \n",
    "</div>\n",
    "\n",
    "\n",
    "### 1.1.3  Producto y División\n",
    "<p>\n",
    "Ahora se definirá la operación producto y posteriormente podremos definir al campo de los números compejos \n",
    "</p>\n",
    "<div class='def'>\n",
    "<strong>Definición 1.3</strong> <em>[Producto]</em>\n",
    "<p>\n",
    " Sean $z_1=(a,b)\\in\\mathbb{R}^2$ y $z_2=(c,d)\\in\\mathbb{R}^2$ la operación producto $f_p:\\mathbb{R}^2\\times\\mathbb{R}^2\\rightarrow\\mathbb{R}^2$ se define como \n",
    " $$f_p\\left(z_1,z_2\\right)=(ac-bd,ad+bc)$$\n",
    " o utilizando una notación abreviada,\n",
    " $$z_1z_2=(ac-bd,ad+bc)$$\n",
    "</p>\n",
    "</div>\n",
    "\n",
    "<p>\n",
    "Las operaciones realizadas dentro de las componentes son las operaciones que ya conocemos de los numeros reales. Nuevamente tenemos dos notaciones, usualmente se estará trabajando con la notación simplificada y dependiendo de las circunstancias se podría escribir cualquiera de las siguientes notaciones $z_1z_2$, $(z_1)(z_2)$, $z_1*z_2$ . La operación multiplicación toma dos parejas de números reales y las transforma en una solo pareja de números reales. El resultado de la multiplicación tiene una interpretación geometrica que se discutira más adelante.\n",
    "</p>\n",
    "\n",
    "<div class=\"polaroid\">\n",
    "   <img src=\"./Varios/ncproducto.svg\" alt=\"producto\">\n",
    "  <div class=\"despolaroid\">\n",
    "    <p>Producto de parejas ordenadas</p>\n",
    "  </div>\n",
    "</div>\n",
    "\n",
    "\n",
    "<p>\n",
    "Por ejemplo:<br>\n",
    "</p>\n",
    "\n",
    "\n",
    "<p>\n",
    "Si $z_1=(-1,0)$ y $z_2=(2.8,0)$ entonces $z_1z_2=(-2.8,0)$, <br>\n",
    "\n",
    "Si $z_1=(1,1)$ y $z_2=(-3,2)$ entonces $f_{p}(z_1,z_2)=(-5,-1)$, <br>\n",
    "\n",
    "Si $z_1=(0,7)$ y $z_2=(0,2)$ entonces $z_1z_2=(-14,0)$, <br>\n",
    "\n",
    "Si $z_1=(0,0)$ y $z_2=(0,0)$ entonces $z_1z_2=(0,0)$, <br>\n",
    "\n",
    "Si $z_1=(3,1)$ y $z_2=(4,2)$ entonces $z_1z_2=(10,10)$,\n",
    "</p>\n",
    "\n",
    "\n",
    "##### Visualización\n",
    "\n",
    "<div class=\"visual\">\n",
    "<p>\n",
    "Para obervar la representación gráfica ejecute la siguiente celda con la instrucción\n",
    "</p>\n",
    "\n",
    "<pre>\n",
    " ncproducto(1,1,-3,2)\n",
    "</pre>\n",
    "\n",
    "<p>\n",
    "Se gráfica el elemento correspondiente y se puede modificar al interactuar con la interfaz,\n",
    "</p>\n"
   ]
  },
  {
   "cell_type": "code",
   "execution_count": 8,
   "metadata": {},
   "outputs": [
    {
     "data": {
      "application/vnd.jupyter.widget-view+json": {
       "model_id": "2f7df6d1751b4c44bf55c18cc50d9300",
       "version_major": 2,
       "version_minor": 0
      },
      "text/plain": [
       "A Jupyter Widget"
      ]
     },
     "metadata": {},
     "output_type": "display_data"
    },
    {
     "data": {
      "application/vnd.jupyter.widget-view+json": {
       "model_id": "0d10603dfa6e4eafb5ae0ed71c2b99e0",
       "version_major": 2,
       "version_minor": 0
      },
      "text/plain": [
       "A Jupyter Widget"
      ]
     },
     "metadata": {},
     "output_type": "display_data"
    }
   ],
   "source": [
    " ncproducto(1,1,-3,2)"
   ]
  },
  {
   "cell_type": "markdown",
   "metadata": {},
   "source": [
    "<p>De manera analoga a la resta, la división es una consecuencia del inverso multiplicativo y el producto </p>\n",
    "\n",
    "<div class='def'>\n",
    "<strong>Definición 1.3</strong> <em>[División]</em>\n",
    "<p>\n",
    " Sean $z_1=(a,b)\\in\\mathbb{R}^2$ y $z_2=(c,d)\\in\\mathbb{R}^2-\\{(0,0)\\}$ la operación división $f_d:\\mathbb{R}^2\\times\\mathbb{R}^2-\\{(0,0)\\}\\rightarrow\\mathbb{R}^2$ se define como \n",
    " $$f_d\\left(z_1,z_2\\right)=f_p(z_1,f_{im}(z_2))$$\n",
    " o utilizando una notación abreviada,\n",
    " $$\\frac{z_1}{z_2}=z_1*\\frac{1}{z_2}=z_1z_2^{-1}$$\n",
    "</p>\n",
    "</div>\n",
    "\n",
    "<p>En palabras: <u><big><em>La división de parejas ordenadas $z_1,\\,z_2$ es el producto de $z_1$ con el inverso multiplicativo de $z_2$ </em></big></u></p>\n",
    "\n",
    "<p>Es decir, la división no es una \"nueva\" operación, es una operación especifica de una operación unaria y otra binaria  que ya se han definido. Por consiguiente la división de $z_1$ entre $z_2$ no esta definida cuando $z_2=(0,0)$, pues el inverso multiplicativo de $(0,0)$ no esta definido. </p>\n",
    "\n",
    "\n",
    "<div class=\"polaroid\">\n",
    "   <img src=\"./Varios/ncdivision.svg\" alt=\"division\">\n",
    "  <div class=\"despolaroid\">\n",
    "    <p>División de parejas ordenadas</p>\n",
    "  </div>\n",
    "</div>\n",
    "\n",
    "\n",
    "<p>\n",
    "Por ejemplo:<br>\n",
    "</p>\n",
    "\n",
    "\n",
    "<p>\n",
    "Si $z_1=(2,0)$ y $z_2=(2.3,0)$ entonces $z_1/z_2=(0.87,0)$, <br>\n",
    "\n",
    "Si $z_1=(-3.4,-4.1)$ y $z_2=(2,-1)$ entonces $f_{d}(z_1,z_2)=(-0.54,-2.32)$, <br>\n",
    "\n",
    "Si $z_1=(0,0)$ y $z_2=(-5,2.3)$ entonces $z_1/z_2=(0,0)$, <br>\n",
    "\n",
    "Si $z_1=(0,0)$ y $z_2=(0,0)$ entonces $z_1/z_2$ no esta definido <br>\n",
    "\n",
    "Si $z_1=(-1,-2)$ y $z_2=(2,2)$ entonces $z_1z_2^{-1}=(-0.75,-0.25)$,\n",
    "</p>\n",
    "\n",
    "<p>La interpretación geometríca de la resta se discutira más adelante.</p>\n",
    "\n",
    "##### Visualización\n",
    "\n",
    "<div class=\"visual\">\n",
    "<p>\n",
    "Para obervar la representación gráfica ejecute la siguiente celda con la instrucción\n",
    "</p>\n",
    "\n",
    "<pre>\n",
    " ncdivision(-1,-2,2,2)\n",
    "</pre>\n",
    "\n",
    "<p>\n",
    "Se gráfica el elemento correspondiente y se puede modificar al interactuar con la interfaz,\n",
    "</p>"
   ]
  },
  {
   "cell_type": "code",
   "execution_count": 9,
   "metadata": {},
   "outputs": [
    {
     "data": {
      "application/vnd.jupyter.widget-view+json": {
       "model_id": "1dd587ff67bd442391ffe7fb0fcee2c3",
       "version_major": 2,
       "version_minor": 0
      },
      "text/plain": [
       "A Jupyter Widget"
      ]
     },
     "metadata": {},
     "output_type": "display_data"
    },
    {
     "data": {
      "application/vnd.jupyter.widget-view+json": {
       "model_id": "80d8d5f2544b462c87c2da5be472206a",
       "version_major": 2,
       "version_minor": 0
      },
      "text/plain": [
       "A Jupyter Widget"
      ]
     },
     "metadata": {},
     "output_type": "display_data"
    }
   ],
   "source": [
    "ncdivision(-1,-2,2,2)"
   ]
  },
  {
   "cell_type": "markdown",
   "metadata": {},
   "source": [
    "<p>Problema</p>\n",
    "\n",
    "<div class='problemas'>\n",
    "<strong>Problemas</strong> \n",
    "<ol>\n",
    "<li><p> Encuentra una fórmula cerrada para definir la división $f_d(z_1,z_2)$, si $z_1=(a,b)$ y $z_2=(c,d)\\neq(0,0)$ </p> </li>\n",
    "</ol>\n",
    "</div>"
   ]
  },
  {
   "cell_type": "markdown",
   "metadata": {},
   "source": [
    "## 1.2 Campo de los números complejos $\\mathbb{C}$\n",
    "\n",
    "<p>\n",
    "De acuerdo a la defición de suma de parejas ordenadas observemos que si $(a,b)\\in\\mathbb{R}^2$ se tiene que \n",
    "</p>\n",
    "\n",
    "$$(a,b)=(a,0)+(0,b)$$\n",
    "\n",
    "<p>Así toda pareja ordenada $(a,b)\\in\\mathbb{R}^2$ se puede ver como la suma de dos elementos \"especiales\" donde en cada uno de ellos una de sus componentes es cero, epecificacmente como la suma de $(a,0)\\in\\mathbb{R}^2$ con $(0,b)\\in\\mathbb{R}^2$. Entonces para estudiar a las parejas ordenas vamos a estudiar a estos dos \"elementos especiales\". Primero tomemos parejas ordenadas con la estructura $(a,0)\\in\\mathbb{R}^2$, estudiemos la forma que tiene su inverso aditivo, así como la suma y resta de elementos con esta estructura </p>\n",
    "\n",
    "<p>\n",
    "Sea $z_1=(a,0),\\, z_2=(c,0)\\in\\mathbb{R}^2$<br>\n",
    "\n",
    "<em>Inverso aditivo.</em> $-z_1=(-a,-0)=(-a,0)$<br>\n",
    "\n",
    "<em>Suma.</em> $z_1+z_2=(a,0)+(c,0)=(a+c,0)$<br>\n",
    "\n",
    "<em>Resta.</em> $z_1-z_2=(a,0)-(c,0)=(a-c,0)$<br>\n",
    "\n",
    "</p>\n",
    "\n",
    "<p>\n",
    "Si un elemento tiene la forma $(a,0)$ su inverso aditivo, la suma y la resta se comporta como la de los números reales en la primer componente. Así para las operaciones antes descritas motivamos un cambio de notación, si una pareja es de la forma $(a,0)\\in\\mathbb{R}^2$ hacemos la siguiente asignación</p>\n",
    "\n",
    "$$(a,0)\\mapsto a$$\n",
    "\n",
    "<p>\n",
    "Es decir, si en una pareja ordenada su segunda componente es cero, no hace falta indicar esa componente, por lo menos para las operaciones realizadas con elementos de la forma $(a,0)$. Con este cambio de notación surge un problema, pues escribir $z=a\\in\\mathbb{R}^2$ para indicar que $z$ es de la forma $z=(a,0)$ no parece indicado, por el momento escribimos $z=a\\in\\mathbb{C}$ para indicar que $z=(a,0)$, más adelante especificaremos quien es $\\mathbb{C}$. Así con la nueva notación tenemos \n",
    "\n",
    "<p>\n",
    "Sea $z_1=a,\\, z_2=c\\in\\mathbb{C}$<br>\n",
    "\n",
    "<em>Inverso aditivo.</em> $-z_1=-a$<br>\n",
    "\n",
    "<em>Suma.</em> $z_1+z_2=a+c$<br>\n",
    "\n",
    "<em>Resta.</em> $z_1-z_2=a-c$<br>\n",
    "\n",
    "</p>\n",
    "\n",
    "<p> Por lo menos la nueva notación es más simplificada y \"natural\". Ahora tomemos parejas ordenadas con la estructura $(0,b)\\in\\mathbb{R}^2$, estudiemos la forma que tiene su inverso aditivo, así como la suma y resta de elementos con esta estructura\n",
    "</p>\n",
    "\n",
    "<p>\n",
    "Sea $w_1=(0,b),\\, w_2=(0,d)\\in\\mathbb{R}^2$<br>\n",
    "\n",
    "<em>Inverso aditivo.</em> $-w_1=(-0,-b)=(0,-b)$<br>\n",
    "\n",
    "<em>Suma.</em> $w_1+w_2=(0,b)+(0,d)=(0,b+d)$<br>\n",
    "\n",
    "<em>Resta.</em> $w_1-w_2=(0,b)-(0,d)=(0,b-d)$<br>\n",
    "\n",
    "</p>\n",
    "\n",
    "\n",
    "<p>\n",
    "Si un elemento tiene la forma $(0,b)$ su inverso aditivo, la suma y la resta se comporta como la de los números reales en la segunda componente. Así para las operaciones antes descritas  motivamos un cambio de notación, este cambio de notación debe ser tal que se distinga del que ya se ha propuesto anteriormente pues ahora hablamos de elementos donde su primer compnente es cero. Si una pareja es de la forma $(0,\n",
    "b)\\in\\mathbb{R}^2$ entonces hacemos la siguiente asignación</p>\n",
    "\n",
    "$$(0,b)\\mapsto bi$$\n",
    "\n",
    "<p>\n",
    "Es decir, si en una pareja ordenada su primer componente es cero, no hace falta indicar esa componente, por lo menos para el inverso aditivo, la suma y la resta de elementos con la estructura descrita. Algunos autores (sobre todo en libros de ingeniería) utilizan $bj$ en lugar de $bi$, puede utilizr la notación que prefiera. Con este cambio de notación surge un problema, pues escribir $z=bi\\in\\mathbb{R}^2$ para indicar que $z$ es de la forma $z=(0,b)$ no parece indicado, por el momento escribimos $z=bi\\in\\mathbb{C}$ para indicar que $z=(0,bi)$, más adelante especificaremos quien es $\\mathbb{C}$. Así con la nueva notación tenemos   </p>\n",
    "\n",
    "<p>\n",
    "Sea $w_1=bi,\\, w_2=di\\in\\mathbb{C}$<br>\n",
    "\n",
    "<em>Inverso aditivo.</em> $-w_1=-bi$<br>\n",
    "\n",
    "<em>Suma.</em> $w_1+w_2=bi+di=(b+d)i$<br>\n",
    "\n",
    "<em>Resta.</em> $w_1-w_2=bi-di=(b-d)i$<br>\n",
    "\n",
    "</p>\n",
    "\n",
    "<p>\n",
    "Si se comparan los resultados anteriores con la notación de prejas ordenadas se observa que la $i$ funciona como un \"indicador\" de que las operaciones son sobre la segunda componente. \n",
    "</p>\n",
    "\n",
    "\n",
    "<p>Ahora como $(a,b)=(a,0)+(0,b)$, se tiene la siguiente asignación bidireccional</p>\n",
    "\n",
    "$$(a,b)\\leftrightarrow a+bi$$\n",
    "\n",
    "<p>\n",
    "La asiganción $(a,b)\\mapsto a+bi$ indica que la pareja ordenada $(a,b)$ se puede ver como el símbolo $a+bi$ y la signación $a+bi \\mapsto (a,b)$ indica que el símbolo $a+bi$ se puede ver como la pareja ordenada $(a,b)$ y así al símbolo $a+bi$ se le puede asignar una geométria. Presisamente $\\mathbb{C}$ contiene a todos los símbolos de la forma $a+bi$, definimos al conjunto $\\mathbb{C}$ como</p>\n",
    "\n",
    "$$\\mathbb{C}=\\left\\lbrace a+bi: a,b\\in\\mathbb{R}\\right\\rbrace$$\n",
    "\n",
    "### 1.2.1  $\\mathbb{C}$ como grupo abeliano aditivo\n",
    "\n",
    "<p>\n",
    "Por el momento $\\mathbb{C}$ solo es un conjunto de símbolos, pero como se ha mencionado la asignación $a+bi \\mapsto (a,b)$ permite definir una suma ($+$) de elementos en $\\mathbb{C}$, formalmente si tenemos $z_1=a+bi$ y $z_2=c+di$ hacemos las asignaciones $z_1=a+bi \\mapsto (a,b)$ y $z_2=c+di \\mapsto (c,d)$, sumamos los elementos $(a,b)+(c,d)=(a+c,b+d)$ y el resultado lo asignamos de la siguiente manera $(a+c,b+d)\\mapsto (a+c)+(b+d)i$, es decir, la suma en $\\mathbb{C}$ es la suma en $\\mathbb{R}^2$ \"disfrazada\" con otros símbolos. Todo lo que se ha desarrollado hasta el momento tiene la intensión de motivar una estructura matemática nueva en terminos de elementos que se suponen previamente conocidos, como aplicacio´n de funciones, parejas ordenadas, etc., pero sin mayor problema puden darse definiciones directas de las estrucutras, y verificar qeu tienen algunas porpiedades. A contonuación se tiene el sigueiente resultado, que carácteriza a el conjunto $\\mathbb{C}$ y su operación de suma ($+$) </p>\n",
    "\n",
    "\n",
    "<div class='def'>\n",
    "<p><strong>Proposición</strong> <em>[$\\mathbb{C}$ como grupo abeliano aditivo]</em></p>\n",
    "\n",
    "<p>\n",
    " Sean el conjunto $\\mathbb{C}=\\left\\lbrace a+bi: a,b\\in\\mathbb{R}\\right\\rbrace$, $z_1=a+bi,\\,z_2=c+di\\in\\mathbb{C}$ y la operación binaria $+:\\mathbb{C}+\\mathbb{C}\\rightarrow\\mathbb{C}$ definida como \n",
    "</p>\n",
    "\n",
    "\n",
    "$$z_1+z_2=(a+bi)+(c+di)=(a+c)+(b+d)i$$\n",
    " \n",
    "<p>\n",
    "Entonces se satisfacen las siguintes propiedades \n",
    "</p>\n",
    " \n",
    " <ul> \n",
    " <li><p> $\\forall z_1,\\,z_2\\in\\mathbb{C}$ <em>(Conmutatividad)</em></p>\n",
    " \n",
    " $$z_1+z_2=z_2+z_1$$\n",
    " \n",
    " </li>\n",
    " <li><p>$\\forall z_1,\\,z_2\\,z_3\\in\\mathbb{C}$ <em>(Asociatividad)</em></p>\n",
    " $$(z_1+z_2)+z_3=z_1+(z_2+z_3)$$\n",
    " </li>\n",
    " \n",
    " <li><p>Para $e=0\\in\\mathbb{C}$ y $\\forall z,\\in\\mathbb{C}$ <em>(Existencia neutro aditivo)</em></p>\n",
    " $$e+z=z+e=z$$\n",
    " </li>\n",
    " <li><p>$\\forall z=a+bi\\in\\mathbb{C}$ sea $z'=-a-bi$ <em>(Existencia inverso aditivo)</em></p>\n",
    " $$z+z'=z'+z=e=0$$</li>\n",
    "\n",
    " </ul>\n",
    " \n",
    "<p>\n",
    "Por satisfacer las propiedades anteriores la estructura $(\\mathbb{C},+)$ recibe el nombre de grupo abeliano aditivo. \n",
    "</p>\n",
    "</div>\n",
    "\n",
    "<p>Frecuecntemente en lugar de escribir $(\\mathbb{C},+)$ se escribe simplemente $\\mathbb{C}$ y decimos que es un grupo abeliano aditivo. Se puede definir la resta $z_1$ y $z_2$ de elementos en $\\mathbb{C}$ como  la suma de $z_1$ con el inverso aditivo de $z_2$, oequcvalentemente resras componente a componente, los siguientes ejemplos ilustran ejemplos de suma y resta</p>\n",
    "\n",
    "\n",
    "<p>\n",
    "Si $z_1=1$ y $z_2=6.8,$ entonces $z_1+z_2=7.8$, <br>\n",
    "\n",
    "Si $z_1=-6.4-1.8i$ y $z_2=1-2i$ entonces $z_1+z_2=-5.4-3.8i$, <br>\n",
    "\n",
    "Si $z_1=3.7i$ y $z_2=2.3i$ entonces $z_1+z_2=6i$, <br>\n",
    "\n",
    "Si $z_1=0$ y $z_2=0$ entonces $z_1+z_2=0$, <br>\n",
    "\n",
    "Si $z_1=-2+2i$ y $z_2=4+2i$ entonces $z_1+z_2=2+4i$<br>\n",
    "\n",
    "Si $z_1=-2$ y $z_2=5.1$ entonces $z_1-z_2=-7.1$, <br>\n",
    "\n",
    "Si $z_1=-2.4-2.2i$ y $z_2=2-1.5i$ entonces $z_1-z_2=-4.4-0.7i$, <br>\n",
    "\n",
    "Si $z_1=2.5i$ y $z_2=2.3i$ entonces $z_1-z_2=-0.2i$, <br>\n",
    "\n",
    "Si $z_1=0$ y $z_2=0$ entonces $z_1-z_2=0$, <br>\n",
    "\n",
    "Si $z_1=-2+2i$ y $z_2=4+2i$ entonces $z_1-z_2=-6$\n",
    "\n",
    "</p>\n",
    "\n",
    "\n",
    "\n",
    "<em>Producto.</em> $z_1z_2=(a,0)(c,0)=(ac-0(0),a(0)+(0)c)=(ac,0)$<br>\n",
    "\n",
    "<em>División.</em> $\\frac{z_1}{z_2}=\\frac{(a,0)}{(c,0)}=(a,0)(\\frac{1}{c},0)=(a(\\frac{1}{c})-0(0),a(0)+(0)\\frac{1}{c})=(\\frac{a}{c},0)$ con $c\\neq 0$\n",
    "</p>\n",
    "\n",
    "\n",
    "\n",
    "<em>Inverso multiplicativo.</em> $z_1^{-1}=(\\frac{a}{a^2+0^2},\\frac{-0}{a^2+0^2})=(\\frac{1}{a},0)$ con $a\\neq 0$<br>\n"
   ]
  },
  {
   "cell_type": "markdown",
   "metadata": {},
   "source": [
    "#### Funciones \n",
    "\n",
    "##### Operaciones\n",
    "\n",
    "**nuco()**\n",
    "\n",
    "**nuscos()**\n",
    "\n",
    "**nc()**\n",
    "\n",
    "**ncconjugado()**\n",
    "\n",
    "**ncinversomul()**\n",
    "\n",
    "**ncinversoadi()**\n",
    "\n",
    "**ncsuma()**\n",
    "\n",
    "**ncresta()**\n",
    "\n",
    "**ncproducto()**\n",
    "\n",
    "**ncdivision()**\n",
    "\n",
    "##### Mapeos\n",
    "\n",
    "**mapeoc()**\n",
    "**graficasc()**"
   ]
  },
  {
   "cell_type": "code",
   "execution_count": 5,
   "metadata": {},
   "outputs": [
    {
     "data": {
      "application/vnd.jupyter.widget-view+json": {
       "model_id": "88c275646e084e03a1901b1216913a76",
       "version_major": 2,
       "version_minor": 0
      },
      "text/plain": [
       "Output()"
      ]
     },
     "metadata": {},
     "output_type": "display_data"
    },
    {
     "data": {
      "application/vnd.jupyter.widget-view+json": {
       "model_id": "948b4c892ffe4818bb6a46c61e9e4ee1",
       "version_major": 2,
       "version_minor": 0
      },
      "text/plain": [
       "VGFiKGNoaWxkcmVuPShIQm94KGNoaWxkcmVuPShWQm94KGNoaWxkcmVuPShCb3goY2hpbGRyZW49KEZsb2F0VGV4dCh2YWx1ZT0xLjAsIGRlc2NyaXB0aW9uPXUnXFwoXFxtYXRoYmJ7Un1lXFzigKY=\n"
      ]
     },
     "metadata": {},
     "output_type": "display_data"
    }
   ],
   "source": [
    "nuco()"
   ]
  },
  {
   "cell_type": "code",
   "execution_count": 3,
   "metadata": {},
   "outputs": [
    {
     "data": {
      "application/vnd.jupyter.widget-view+json": {
       "model_id": "93a45223d32b4ab79a0d62e29ed38990",
       "version_major": 2,
       "version_minor": 0
      },
      "text/plain": [
       "A Jupyter Widget"
      ]
     },
     "metadata": {},
     "output_type": "display_data"
    },
    {
     "data": {
      "application/vnd.jupyter.widget-view+json": {
       "model_id": "f9724101485643b08b1ff6265cc3199d",
       "version_major": 2,
       "version_minor": 0
      },
      "text/plain": [
       "A Jupyter Widget"
      ]
     },
     "metadata": {},
     "output_type": "display_data"
    }
   ],
   "source": [
    "nuscos()"
   ]
  },
  {
   "cell_type": "code",
   "execution_count": 4,
   "metadata": {},
   "outputs": [
    {
     "data": {
      "application/vnd.jupyter.widget-view+json": {
       "model_id": "eb78bcfc6c4244a78b8198d183ba27c9",
       "version_major": 2,
       "version_minor": 0
      },
      "text/plain": [
       "Output()"
      ]
     },
     "metadata": {},
     "output_type": "display_data"
    },
    {
     "data": {
      "application/vnd.jupyter.widget-view+json": {
       "model_id": "23c2cb5ad6a648478ab9fdc1527994f9",
       "version_major": 2,
       "version_minor": 0
      },
      "text/plain": [
       "VGFiKGNoaWxkcmVuPShIQm94KGNoaWxkcmVuPShWQm94KGNoaWxkcmVuPShCb3goY2hpbGRyZW49KEZsb2F0U2xpZGVyKHZhbHVlPTcuNSwgY29udGludW91c191cGRhdGU9RmFsc2UsIGRlc2PigKY=\n"
      ]
     },
     "metadata": {},
     "output_type": "display_data"
    }
   ],
   "source": [
    "nc()"
   ]
  },
  {
   "cell_type": "code",
   "execution_count": 2,
   "metadata": {},
   "outputs": [
    {
     "data": {
      "application/vnd.jupyter.widget-view+json": {
       "model_id": "ecfc5b59361e40b7b9d4ddaa67d69e7a",
       "version_major": 2,
       "version_minor": 0
      },
      "text/plain": [
       "Output()"
      ]
     },
     "metadata": {},
     "output_type": "display_data"
    },
    {
     "data": {
      "application/vnd.jupyter.widget-view+json": {
       "model_id": "2a868bcd15d240c19ca74ea6ad984327",
       "version_major": 2,
       "version_minor": 0
      },
      "text/plain": [
       "VGFiKGNoaWxkcmVuPShIQm94KGNoaWxkcmVuPShWQm94KGNoaWxkcmVuPShCb3goY2hpbGRyZW49KFNlbGVjdChkZXNjcmlwdGlvbj11J0Nvbmp1bnRvOicsIG9wdGlvbnM9KCdDdWFkcm8nLCDigKY=\n"
      ]
     },
     "metadata": {},
     "output_type": "display_data"
    }
   ],
   "source": [
    "mapeoc()"
   ]
  },
  {
   "cell_type": "code",
   "execution_count": 3,
   "metadata": {},
   "outputs": [
    {
     "data": {
      "application/vnd.jupyter.widget-view+json": {
       "model_id": "0d7534d3fbd84563b93dc0d82eaa2c51",
       "version_major": 2,
       "version_minor": 0
      },
      "text/plain": [
       "Output()"
      ]
     },
     "metadata": {},
     "output_type": "display_data"
    },
    {
     "data": {
      "application/vnd.jupyter.widget-view+json": {
       "model_id": "452d82ded7c948efa133f5900c1cb6ed",
       "version_major": 2,
       "version_minor": 0
      },
      "text/plain": [
       "VGFiKGNoaWxkcmVuPShIQm94KGNoaWxkcmVuPShWQm94KGNoaWxkcmVuPShCb3goY2hpbGRyZW49KFNlbGVjdChkZXNjcmlwdGlvbj11J0Nvbmp1bnRvOicsIG9wdGlvbnM9KCdDdWFkcm8nLCDigKY=\n"
      ]
     },
     "metadata": {},
     "output_type": "display_data"
    }
   ],
   "source": [
    "graficasc()"
   ]
  },
  {
   "cell_type": "code",
   "execution_count": null,
   "metadata": {
    "collapsed": true
   },
   "outputs": [],
   "source": []
  }
 ],
 "metadata": {
  "anaconda-cloud": {},
  "kernelspec": {
   "display_name": "Python 2",
   "language": "python",
   "name": "python2"
  },
  "language_info": {
   "codemirror_mode": {
    "name": "ipython",
    "version": 2
   },
   "file_extension": ".py",
   "mimetype": "text/x-python",
   "name": "python",
   "nbconvert_exporter": "python",
   "pygments_lexer": "ipython2",
   "version": "2.7.15"
  }
 },
 "nbformat": 4,
 "nbformat_minor": 2
}
