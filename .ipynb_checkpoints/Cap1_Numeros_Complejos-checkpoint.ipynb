{
 "cells": [
  {
   "cell_type": "code",
   "execution_count": 1,
   "metadata": {},
   "outputs": [
    {
     "ename": "IOError",
     "evalue": "[Errno 2] No such file or directory: '../Varios/estilo1.css'",
     "output_type": "error",
     "traceback": [
      "\u001b[0;31m---------------------------------------------------------------------------\u001b[0m",
      "\u001b[0;31mIOError\u001b[0m                                   Traceback (most recent call last)",
      "\u001b[0;32m<ipython-input-1-c8af1012da72>\u001b[0m in \u001b[0;36m<module>\u001b[0;34m()\u001b[0m\n\u001b[0;32m----> 1\u001b[0;31m \u001b[0;32mfrom\u001b[0m \u001b[0mProgramas\u001b[0m\u001b[0;34m.\u001b[0m\u001b[0mCap1\u001b[0m \u001b[0;32mimport\u001b[0m \u001b[0;34m*\u001b[0m\u001b[0;34m\u001b[0m\u001b[0m\n\u001b[0m",
      "\u001b[0;32m/Users/rafamtz/Dropbox/TECCEM/VariableCompleja/Programas/Cap1.py\u001b[0m in \u001b[0;36m<module>\u001b[0;34m()\u001b[0m\n\u001b[1;32m     16\u001b[0m \u001b[0;32mfrom\u001b[0m \u001b[0mIPython\u001b[0m\u001b[0;34m.\u001b[0m\u001b[0mcore\u001b[0m\u001b[0;34m.\u001b[0m\u001b[0mdisplay\u001b[0m \u001b[0;32mimport\u001b[0m \u001b[0mHTML\u001b[0m\u001b[0;34m\u001b[0m\u001b[0m\n\u001b[1;32m     17\u001b[0m \u001b[0mcss_file\u001b[0m \u001b[0;34m=\u001b[0m \u001b[0;34m'../Varios/estilo1.css'\u001b[0m\u001b[0;34m\u001b[0m\u001b[0m\n\u001b[0;32m---> 18\u001b[0;31m \u001b[0mHTML\u001b[0m\u001b[0;34m(\u001b[0m\u001b[0mopen\u001b[0m\u001b[0;34m(\u001b[0m\u001b[0mcss_file\u001b[0m\u001b[0;34m,\u001b[0m \u001b[0;34m\"r\"\u001b[0m\u001b[0;34m)\u001b[0m\u001b[0;34m.\u001b[0m\u001b[0mread\u001b[0m\u001b[0;34m(\u001b[0m\u001b[0;34m)\u001b[0m\u001b[0;34m)\u001b[0m\u001b[0;34m\u001b[0m\u001b[0m\n\u001b[0m\u001b[1;32m     19\u001b[0m \u001b[0;34m\u001b[0m\u001b[0m\n",
      "\u001b[0;31mIOError\u001b[0m: [Errno 2] No such file or directory: '../Varios/estilo1.css'"
     ]
    }
   ],
   "source": [
    "from Programas.Cap1 import *"
   ]
  },
  {
   "cell_type": "markdown",
   "metadata": {},
   "source": [
    "# 1. Números complejos y el plano complejo\n",
    "\n",
    "\n",
    "<p>\n",
    "El objetivo principal es tomar un conjunto de parejas ordenadas de números reales $\\mathbb{R}^2$ y definir dos operaciones en este conjunto, a una de estas operaciones la llamaremos suma $(+)$ y a la otra producto $(*)$. La estructura $(\\mathbb{R}^2,+,*)$ recibirá el nombre de campo de los números complejos. El campo de los numeros complejos tiene propiedades similares a los numeros reales $\\mathbb{R}$ además presenta nuevas porpiedades que presisamente lo hacen importante. Observaremos que se pueden hacer unos ajustes de notación de tal manera que a las parejas de números reales les podemos asignar un elemento en fomra de suma, es decir, $(a,b)\\mapsto a+bi$, tendremos la misma estructura algebraica pero con diferentes simbolos, así podremos escribir a el campo de los numeros complejos como la estructura $(\\mathbb{C},+,*)$ donde $\\mathbb{C}=\\left\\lbrace a+bi: a,b\\in\\mathbb R, \\mbox{ con } i^2=-1\\right\\rbrace$, la condición $i^2=-1$ será natural una vez que se defina el porducto y se realizaen las observaciones correspondientes.\n",
    "</p>\n",
    "\n",
    "## 1.1 Operaciones con parejas ordenadas\n",
    "\n",
    "<p>\n",
    "Tomemos el producto cartesiano $\\mathbb{R}^2=\\mathbb{R}\\times\\mathbb{R}=\\left\\lbrace(a,b): a,b\\in\\mathbb R\\right\\rbrace$, un elemento que pertenezca a este conjunto podría ser $z\\in\\mathbb{R}^2$ con $z=(6.6,-8.6)$. Recordemos que $(a,b)\\neq (b,a)$ por ejemplo $(6.6,-8.6)\\neq (-8.6,6.6)$ de aquí reciben el nombre de parejas ordenadas.\n",
    "</p>\n",
    "\n",
    "<div class=\"polaroid\">\n",
    "   <img src=\"./Varios/nc.svg\" alt=\"Pareja\">\n",
    "  <div class=\"despolaroid\">\n",
    "    <p>Representación geometrica de una pareja ordenada</p>\n",
    "  </div>\n",
    "</div>\n",
    "\n",
    " \n",
    "\n",
    "<p>\n",
    "Como se sabe se puede asignar una representación geometrica en un plano al conjunto antes definido, la convención es asociar la primer componente (de izquierda a derecha) al eje horizontal y la segunda componente al eje vertical y dibujar en la intersección dada, ya sea un punto, un segmento de linea recta desde el origen, o ambos; depende a que se quiera hacer referencia. \n",
    "</p>\n",
    "\n",
    "\n",
    "##### Visualización\n",
    "\n",
    "<div class=\"visual\">\n",
    "<p>\n",
    "Para obervar la representación gráfica ejecute la siguiente celda con la instrucción\n",
    "</p>\n",
    "\n",
    "<pre>\n",
    " nc(6.6,-8.6)\n",
    "</pre>\n",
    "\n",
    "<p>\n",
    "Se gráfica el elemento correspondiente y se puede modificar al interactuar con la interfaz,\n",
    "</p>\n",
    "</div>\n",
    "\n"
   ]
  },
  {
   "cell_type": "code",
   "execution_count": 5,
   "metadata": {},
   "outputs": [
    {
     "data": {
      "application/vnd.jupyter.widget-view+json": {
       "model_id": "dcb318eae51446e58d44e875cc394315",
       "version_major": 2,
       "version_minor": 0
      },
      "text/plain": [
       "A Jupyter Widget"
      ]
     },
     "metadata": {},
     "output_type": "display_data"
    },
    {
     "data": {
      "application/vnd.jupyter.widget-view+json": {
       "model_id": "921b96c65922421199bcb24e47906fb4",
       "version_major": 2,
       "version_minor": 0
      },
      "text/plain": [
       "A Jupyter Widget"
      ]
     },
     "metadata": {},
     "output_type": "display_data"
    }
   ],
   "source": [
    "nc(6.6,-8.6)"
   ]
  },
  {
   "cell_type": "markdown",
   "metadata": {},
   "source": [
    "\n",
    "<p>\n",
    "Se definirán tres operaciones unarias que serán de importancia para definir al campo de los números complejos, en este caso $f$ será una operación unaria si es una función de tal manera que $f:\\mathbb{R}^2\\rightarrow\\mathbb{R}^2$, es decir, toma una pareja ordenada y regresa otra pareja ordenada.\n",
    "</p>\n",
    "\n",
    "### 1.1.1 Conjugación, Inverso multiplicativo e Inverso aditivo\n",
    "\n",
    "<div class='def'>\n",
    "<strong>Definición 1.1</strong> <em>[Conjugación]</em>\n",
    "<p>\n",
    " Sea $z=(a,b)\\in\\mathbb{R}^2$ la operación conjugación $f_c:\\mathbb{R}^2\\rightarrow\\mathbb{R}^2$ se define como \n",
    " $$f_c\\left(z\\right)=(a,-b)$$\n",
    " o utilizando una notación abreviada,\n",
    " $$\\bar z=(a,-b)$$\n",
    "</p>\n",
    "</div>\n",
    "\n",
    "<p>\n",
    "Tenemos dos notaciones para referirnos a la operación conjugación que usaremos de manera insdistinta, aunque la mayor parte de las veces usaremos la notación simplificada. Cabe mencionar que algunos autores utilizan un asterisco para la notación simplificada, esto es, $\\bar z\\equiv z^*$. Podría parecer un poco rebuscado definir la notación de $f_c$ si contamos con la simplificada, pero para algunos conceptos es importante. \n",
    "</p>\n",
    "\n",
    "<p>\n",
    "Observemos que la operación conjugación toma una pareja de números reales y la <em>Transforma</em> en una nueva pareja donde la segunda componente cambia de signo.\n",
    "</p>\n",
    "\n",
    "<div class=\"polaroid\">\n",
    "   <img src=\"./Varios/ncconjugado.svg\" alt=\"Conjugado\">\n",
    "  <div class=\"despolaroid\">\n",
    "    <p>Una pareja ordenada y su conjugado</p>\n",
    "  </div>\n",
    "</div>\n",
    "\n",
    "\n",
    "<p>\n",
    "Por ejemplo:<br>\n",
    "</p>\n",
    "<p>\n",
    "Si $z=(3,0)$ entonces $\\bar z=(3,0)$, <br>\n",
    "\n",
    "Si $z=(-2.4,-9.8)$ entonces $f_c(z)=(-2.4,9.8)$, <br>\n",
    "\n",
    "Si $z=(0,5.7)$ entonces $\\bar z=(0,-5.7)$, <br>\n",
    "\n",
    "Si $z=(0,0)$ entonces $\\bar z=(0,0)$,\n",
    "</p>\n",
    "\n",
    "\n",
    "##### Visualización\n",
    "<div class=\"visual\">\n",
    "<p>\n",
    "Para obervar la representación gráfica ejecute la siguiente celda con la instrucción\n",
    "</p>\n",
    "<pre>\n",
    " ncconjugado(6.6,-8.6)\n",
    "</pre>\n",
    "<p>\n",
    "Se gráfica el elemento correspondiente y se puede modificar al interactuar con la interfaz,\n",
    "</p>\n",
    "</div>"
   ]
  },
  {
   "cell_type": "code",
   "execution_count": 8,
   "metadata": {},
   "outputs": [
    {
     "data": {
      "application/vnd.jupyter.widget-view+json": {
       "model_id": "8f49acb74b304c7cb3dec2058e92793e",
       "version_major": 2,
       "version_minor": 0
      },
      "text/plain": [
       "A Jupyter Widget"
      ]
     },
     "metadata": {},
     "output_type": "display_data"
    },
    {
     "data": {
      "application/vnd.jupyter.widget-view+json": {
       "model_id": "86a1059d4e044103bf899431874cc4cb",
       "version_major": 2,
       "version_minor": 0
      },
      "text/plain": [
       "A Jupyter Widget"
      ]
     },
     "metadata": {},
     "output_type": "display_data"
    }
   ],
   "source": [
    "ncconjugado(6.6,-8.6)"
   ]
  },
  {
   "cell_type": "markdown",
   "metadata": {},
   "source": [
    "<p>\n",
    "Observamos que la geometría del elemento conjugado es un reflexión sobre el eje horizontal del elemento \"original\", es decir, $z$ y $\\bar z$ son simétricos respecto al eje horizontal, si un elemento esta por arriba del eje horizontal su conjugado estará por debajo, de forma similar si esta por abajo su conjugado estará por arriba del eje horizontal, ¿Qué sucede con la geometria del conjugado de un elemento, si dicho elemento tiene gráfica sobre el eje horizontal?</p>\n",
    "\n",
    "\n",
    "<p>Ahora definimos la operación unaria inverso multiplicativo y al igual que la operación conjugado representa una transformación cuyo resultado es cambiar de signo al segundo elemento de la pareja y dividir cada elemento entre la suma de los cuadrados de las componentes, esto impone la restricción que el dominio de la operación no contenga el origen del plano (para no dividir entre cero)</p>\n",
    "\n",
    "\n",
    "<div class='def'>\n",
    "<strong>Definición 1.2</strong> <em>[Inverso multiplicativo]</em>\n",
    "<p>\n",
    " Sea $z=(a,b)\\in\\mathbb{R}^2-\\{(0,0)\\}$ la operación inverso aditivo $f_{ia}:\\mathbb{R}^2-\\{(0,0)\\} \\rightarrow\\mathbb{R}^2$ se define como \n",
    " $$f_{im}\\left(z\\right)=\\left(\\frac{a}{a^2+b^2},\\frac{-b}{a^2+b^2}\\right)$$\n",
    " o utilizando una notación abreviada,\n",
    " $$z^{-1}=\\frac{1}{z}=\\left(\\frac{a}{a^2+b^2},\\frac{-b}{a^2+b^2}\\right)$$\n",
    "</p>\n",
    "</div>\n",
    "\n",
    "De igual manera tenemos dos notaciones para la operación inverso multiplicativo, la mayor parte de las veces utilizaremos la notación abreviada.\n",
    "\n",
    "<div class=\"polaroid\">\n",
    "   <img src=\"./Varios/ncinversomul.svg\" alt=\"inverso multiplicativo\">\n",
    "  <div class=\"despolaroid\">\n",
    "    <p>Una pareja ordenada y su inverso multiplicativo</p>\n",
    "  </div>\n",
    "</div>\n",
    "\n",
    "\n",
    "<p>\n",
    "Por ejemplo:<br>\n",
    "</p>\n",
    "\n",
    "<p>\n",
    "Si $z=(7,0)$ entonces $z^{-1}=(\\frac{1}{7},0)$, <br>\n",
    "\n",
    "Si $z=(-6.4,-1.8)$ entonces $f_{im}(z)=(-0.14,0.04)$, <br>\n",
    "\n",
    "Si $z=(0,2.7)$ entonces $\\frac{1}{z}=(0,-0.37)$, <br>\n",
    "\n",
    "Si $z=(0,0)$ entonces $z^{-1}$ no esta definido, <br>\n",
    "\n",
    "Si $z=(1,2)$ entonces $\\frac{1}{z}=(0.2,-0.4)$, \n",
    "</p>\n",
    "\n",
    "\n",
    "##### Visualización\n",
    "\n",
    "<div class=\"visual\">\n",
    "<p>\n",
    "Para obervar la representación gráfica ejecute la siguiente celda con la instrucción\n",
    "</p>\n",
    "\n",
    "<pre>\n",
    " ncinversomul(1,2)\n",
    "</pre>\n",
    "\n",
    "<p>\n",
    "Se gráfica el elemento correspondiente y se puede modificar al interactuar con la interfaz,\n",
    "</p>\n",
    "</div>\n",
    "\n",
    "\n"
   ]
  },
  {
   "cell_type": "code",
   "execution_count": 10,
   "metadata": {},
   "outputs": [
    {
     "data": {
      "application/vnd.jupyter.widget-view+json": {
       "model_id": "054fc0a8326e4428bd2a84630717cfa5",
       "version_major": 2,
       "version_minor": 0
      },
      "text/plain": [
       "A Jupyter Widget"
      ]
     },
     "metadata": {},
     "output_type": "display_data"
    },
    {
     "data": {
      "application/vnd.jupyter.widget-view+json": {
       "model_id": "a9da867df41d4ca5b385b7f96a49f528",
       "version_major": 2,
       "version_minor": 0
      },
      "text/plain": [
       "A Jupyter Widget"
      ]
     },
     "metadata": {},
     "output_type": "display_data"
    }
   ],
   "source": [
    "ncinversomul(1,2)"
   ]
  },
  {
   "cell_type": "markdown",
   "metadata": {},
   "source": [
    "\n",
    "<p>Ahora definimos la operación unaria inverso aditivo y al igual que la operaciones anteriores representa una transformación cuyo resultado es cambiar de signo ambos elementos de la pareja, ademas el inverso aditivo resulta ser simetrico respecto al origen con la pareja original, en otras palabras, las ubicaciones geometricas de una pareja y de su inverso aditivo estarán en cuadrantes opuestos por el vertice</p>\n",
    "\n",
    "\n",
    "<div class='def'>\n",
    "<strong>Definición 1.2</strong> <em>[Inverso aditivo]</em>\n",
    "<p>\n",
    " Sea $z=(a,b)\\in\\mathbb{R}^2$ la operación inverso aditivo $f_{ia}:\\mathbb{R}^2\\rightarrow\\mathbb{R}^2$ se define como \n",
    " $$f_{ia}\\left(z\\right)=(-a,-b)$$\n",
    " o utilizando una notación abreviada,\n",
    " $$-z=(-a,-b)$$\n",
    "</p>\n",
    "</div>\n",
    "\n",
    "De igual manera tenemos dos notaciones para la operación inverso aditivo, la mayor parte de las veces utilizaremos la notación abreviada.\n",
    "\n",
    "<div class=\"polaroid\">\n",
    "   <img src=\"./Varios/ncinversoadi.svg\" alt=\"inverso aditivo\">\n",
    "  <div class=\"despolaroid\">\n",
    "    <p>Una pareja ordenada y su inverso aditivo</p>\n",
    "  </div>\n",
    "</div>\n",
    "\n",
    "\n",
    "<p>\n",
    "Por ejemplo:<br>\n",
    "</p>\n",
    "\n",
    "<p>\n",
    "Si $z=(-2.5,0)$ entonces $-z=(2.5,0)$, <br>\n",
    "\n",
    "Si $z=(2.4,3.5)$ entonces $f_{ia}(z)=(-2.4,-3.5)$, <br>\n",
    "\n",
    "Si $z=(0,5)$ entonces $- z=(0,-5)$, <br>\n",
    "\n",
    "Si $z=(0,0)$ entonces $-z=(0,0)$, <br>\n",
    "\n",
    "Si $z=(-1.5,2)$ entonces $-z=(1.5,-2)$, \n",
    "</p>\n",
    "\n",
    "\n",
    "##### Visualización\n",
    "\n",
    "<div class=\"visual\">\n",
    "<p>\n",
    "Para obervar la representación gráfica ejecute la siguiente celda con la instrucción\n",
    "</p>\n",
    "\n",
    "<pre>\n",
    " ncinversoadi(-1.5,2)\n",
    "</pre>\n",
    "\n",
    "<p>\n",
    "Se gráfica el elemento correspondiente y se puede modificar al interactuar con la interfaz,\n",
    "</p>\n",
    "</div>\n",
    "\n"
   ]
  },
  {
   "cell_type": "code",
   "execution_count": 12,
   "metadata": {},
   "outputs": [
    {
     "data": {
      "application/vnd.jupyter.widget-view+json": {
       "model_id": "f075127ee4e9469aaac7d74b5e7691c1",
       "version_major": 2,
       "version_minor": 0
      },
      "text/plain": [
       "A Jupyter Widget"
      ]
     },
     "metadata": {},
     "output_type": "display_data"
    },
    {
     "data": {
      "application/vnd.jupyter.widget-view+json": {
       "model_id": "e555429b95ff49f9bb78fb0cc8cb9d87",
       "version_major": 2,
       "version_minor": 0
      },
      "text/plain": [
       "A Jupyter Widget"
      ]
     },
     "metadata": {},
     "output_type": "display_data"
    }
   ],
   "source": [
    "ncinversoadi(-1.5,2)"
   ]
  },
  {
   "cell_type": "markdown",
   "metadata": {},
   "source": [
    "<p>\n",
    "Ahora se definirán dos operaciones binarias, en este caso $f$ será una operación binaria si es una función de tal manera que $f:\\mathbb{R}^2\\times\\mathbb{R}^2\\rightarrow\\mathbb{R}^2$, es decir, toma dos parejas ordenadas y regresa una pareja.\n",
    "</p>\n",
    "\n",
    "<div class='problemas'>\n",
    "<strong>Problemas</strong> \n",
    "<ol>\n",
    "<li><p>  </p> </li>\n",
    "</ol>\n",
    "</div>\n",
    "\n",
    "\n",
    "### 1.1.2 Suma y Resta\n",
    "\n",
    "Recordemos que nuestro objetivo es definir el campo de los números complejos, las operaciones de conjugación, inverso multiplicativo y aditivo jugaran un papel importante al momento de hacer operaciones aritmeticas entre numeros complejós; pero la suma es una de las dos operaciones que definene la estructura algebraica a la cual queremos llegar.\n",
    "\n",
    "<div class='def'>\n",
    "<strong>Definición 1.3</strong> <em>[Suma]</em>\n",
    "<p>\n",
    " Sean $z_1=(a,b)\\in\\mathbb{R}^2$ y $z_2=(c,d)\\in\\mathbb{R}^2$ la operación suma $f_s:\\mathbb{R}^2\\times\\mathbb{R}^2\\rightarrow\\mathbb{R}^2$ se define como \n",
    " $$f_s\\left(z_1,z_2\\right)=(a+c,b+d)$$\n",
    " o utilizando una notación abreviada,\n",
    " $$z_1+z_2=(a+c,b+d)$$\n",
    "</p>\n",
    "</div>\n",
    "\n",
    "\n",
    "Estrictamente hablando cuando se utiliza la notación simplificada se tendría que especificar $z_1+_cz_2=(a+c,b+d)$ donde $+_c$ es el simbolo que se esta definiendo y $+$ es la suma que sabemos realizar de números relaes, para no cargar la notación preferimos escribir esta aclaración. Nuevamente tenemos dos notaciones, usualmente se estará trabajando con la notación simplificada. La operación suma toma dos parejas de números reales y las transforma en una solo pareja de números reales, donde cada componente es la suma  posición a posición de las parejas iniciales.\n",
    "\n",
    "<div class=\"polaroid\">\n",
    "   <img src=\"./Varios/ncsuma.svg\" alt=\"suma\">\n",
    "  <div class=\"despolaroid\">\n",
    "    <p>Suma de parejas ordenadas</p>\n",
    "  </div>\n",
    "</div>\n",
    "\n",
    "\n",
    "<p>\n",
    "Por ejemplo:<br>\n",
    "</p>\n",
    "\n",
    "\n",
    "<p>\n",
    "Si $z_1=(1,0)$ y $z_2=(6.8,0)$ entonces $z_1+z_2=(7.8,0)$, <br>\n",
    "\n",
    "Si $z_1=(-6.4,-1.8)$ y $z_2=(1,-2)$ entonces $f_{s}(z_1,z_2)=(-5.4,-3.8)$, <br>\n",
    "\n",
    "Si $z_1=(0,3.7)$ y $z_2=(0,2.3)$ entonces $z_1+z_2=(0,6)$, <br>\n",
    "\n",
    "Si $z_1=(0,0)$ y $z_2=(0,0)$ entonces $z_1+z_2=(0,0)$, <br>\n",
    "\n",
    "Si $z_1=(-2,2)$ y $z_2=(4,2)$ entonces $z_1+z_2=(2,4)$,\n",
    "</p>\n",
    "\n",
    "<p>La suma tiene una interpretación interesante cuando se realiza de forma geometrica, se puede observar en la siguitente visualización que los sumandos son los lados de un paralelogramo y el resultado de la suma es es la diagonal de dicho paralelogramo </p>\n",
    "\n",
    "\n",
    "##### Visualización\n",
    "\n",
    "<div class=\"visual\">\n",
    "<p>\n",
    "Para obervar la representación gráfica ejecute la siguiente celda con la instrucción\n",
    "</p>\n",
    "\n",
    "<pre>\n",
    " ncsuma(-2,2,4,2)\n",
    "</pre>\n",
    "\n",
    "<p>\n",
    "Se gráfica el elemento correspondiente y se puede modificar al interactuar con la interfaz,\n",
    "</p>\n",
    "</div>\n"
   ]
  },
  {
   "cell_type": "code",
   "execution_count": 16,
   "metadata": {},
   "outputs": [
    {
     "data": {
      "application/vnd.jupyter.widget-view+json": {
       "model_id": "a4b8a92d2d8440259e7860c34a7f73c2",
       "version_major": 2,
       "version_minor": 0
      },
      "text/plain": [
       "A Jupyter Widget"
      ]
     },
     "metadata": {},
     "output_type": "display_data"
    },
    {
     "data": {
      "application/vnd.jupyter.widget-view+json": {
       "model_id": "b8b005e1b42b4688bee3a5f5b7effa46",
       "version_major": 2,
       "version_minor": 0
      },
      "text/plain": [
       "A Jupyter Widget"
      ]
     },
     "metadata": {},
     "output_type": "display_data"
    }
   ],
   "source": [
    "ncsuma(-2,2,4,2)"
   ]
  },
  {
   "cell_type": "markdown",
   "metadata": {},
   "source": [
    "<p>Ahora se definira la resta y observaremos que es una consecuencia del inverso aditivo y la suma </p>\n",
    "\n",
    "<div class='def'>\n",
    "<strong>Definición 1.3</strong> <em>[Resta]</em>\n",
    "<p>\n",
    " Sean $z_1=(a,b)\\in\\mathbb{R}^2$ y $z_2=(c,d)\\in\\mathbb{R}^2$ la operación resta $f_r:\\mathbb{R}^2\\times\\mathbb{R}^2\\rightarrow\\mathbb{R}^2$ se define como \n",
    " $$f_r\\left(z_1,z_2\\right)=(a-c,b-c)$$\n",
    " o utilizando una notación abreviada,\n",
    " $$z_1-z_2=(a-c,b-d)$$\n",
    "</p>\n",
    "</div>\n",
    "\n",
    "<p>Observemos lo siguiente</p>\n",
    "\n",
    "\\begin{equation}\n",
    "f_r\\left(z_1,z_2\\right)=f_s(z_1,f_{ia}(z_2))\n",
    "\\end{equation}\n",
    "\n",
    "<p>en términos de la notación simplificada</p>\n",
    "\n",
    "\\begin{equation}\n",
    "z_1-z_2=z_1+(-z_2)\n",
    "\\end{equation}\n",
    "\n",
    "<p>En palabras: <u><big><em>La resta de parejas ordenadas $z_1,\\,z_2$ es la suma de $z_1$ con el inverso aditivo $z_2$ </em></big></u></p>\n",
    "\n",
    "<p>Es decir, la resta no es una \"nueva\" operación, es una operación especifica de una operación unaria y otra binaria que ya se han definido. </p>\n",
    "\n",
    "\n",
    "<div class=\"polaroid\">\n",
    "   <img src=\"./Varios/ncresta.svg\" alt=\"resta\">\n",
    "  <div class=\"despolaroid\">\n",
    "    <p>Resta de parejas ordenadas</p>\n",
    "  </div>\n",
    "</div>\n",
    "\n",
    "\n",
    "<p>\n",
    "Por ejemplo:<br>\n",
    "</p>\n",
    "\n",
    "\n",
    "<p>\n",
    "Si $z_1=(-2,0)$ y $z_2=(5.1,0)$ entonces $z_1-z_2=(-7.1,0)$, <br>\n",
    "\n",
    "Si $z_1=(-2.4,-2.2)$ y $z_2=(2,-1.5)$ entonces $f_{r}(z_1,z_2)=(-4.4,-0.7)$, <br>\n",
    "\n",
    "Si $z_1=(0,2.5)$ y $z_2=(0,2.3)$ entonces $z_1-z_2=(0,-0.2)$, <br>\n",
    "\n",
    "Si $z_1=(0,0)$ y $z_2=(0,0)$ entonces $z_1-z_2=(0,0)$, <br>\n",
    "\n",
    "Si $z_1=(-2,2)$ y $z_2=(4,2)$ entonces $z_1-z_2=(-6,0)$,\n",
    "</p>\n",
    "\n",
    "<p>Se puede obseervar en la siguinete visualzación que la resta $z_1-z_2$ es la suma de $z_1$ con el inverso aditivo de $z_2$ </p>\n",
    "\n",
    "\n",
    "##### Visualización\n",
    "\n",
    "<div class=\"visual\">\n",
    "<p>\n",
    "Para obervar la representación gráfica ejecute la siguiente celda con la instrucción\n",
    "</p>\n",
    "\n",
    "<pre>\n",
    " ncresta(-2,2,4,2)\n",
    "</pre>\n",
    "\n",
    "<p>\n",
    "Se gráfica el elemento correspondiente y se puede modificar al interactuar con la interfaz,\n",
    "</p>\n",
    "</div>"
   ]
  },
  {
   "cell_type": "code",
   "execution_count": 18,
   "metadata": {},
   "outputs": [
    {
     "data": {
      "application/vnd.jupyter.widget-view+json": {
       "model_id": "7a56b225db1a40c68e21f6b2f0192ade",
       "version_major": 2,
       "version_minor": 0
      },
      "text/plain": [
       "A Jupyter Widget"
      ]
     },
     "metadata": {},
     "output_type": "display_data"
    },
    {
     "data": {
      "application/vnd.jupyter.widget-view+json": {
       "model_id": "a1087c6b11874ee8a7c3903d709370d3",
       "version_major": 2,
       "version_minor": 0
      },
      "text/plain": [
       "A Jupyter Widget"
      ]
     },
     "metadata": {},
     "output_type": "display_data"
    }
   ],
   "source": [
    "ncresta(-2,2,4,2)"
   ]
  },
  {
   "cell_type": "markdown",
   "metadata": {},
   "source": [
    "\n",
    "<div class='problemas'>\n",
    "<strong>Problemas</strong> \n",
    "</div>\n",
    "\n",
    "\n",
    "### 1.1.3  Producto y División\n",
    "\n",
    "Ahora se definirá la operación producto y posteriormente podremos definir al campo de los números compejos \n",
    "\n",
    "<div class='def'>\n",
    "<strong>Definición 1.3</strong> <em>[Producto]</em>\n",
    "<p>\n",
    " Sean $z_1=(a,b)\\in\\mathbb{R}^2$ y $z_2=(c,d)\\in\\mathbb{R}^2$ la operación producto $f_p:\\mathbb{R}^2\\times\\mathbb{R}^2\\rightarrow\\mathbb{R}^2$ se define como \n",
    " $$f_p\\left(z_1,z_2\\right)=(ac-bd,ad+bc)$$\n",
    " o utilizando una notación abreviada,\n",
    " $$z_1z_2=(ac-bd,ad+bc)$$\n",
    "</p>\n",
    "</div>\n",
    "\n",
    "\n",
    "Las operaciones realizadas dentro de las componentes son las operaciones que ya conocemos de los numeros reales. Nuevamente tenemos dos notaciones, usualmente se estará trabajando con la notación simplificada y dependiendo de las circunstancias se podría escribir cualquiera de las siguientes notaciones $z_1z_2$, $(z_1)(z_2)$, $z_1*z_2$ . La operación multiplicación toma dos parejas de números reales y las transforma en una solo pareja de números reales. El resultado de la multiplicación tiene una interpretación geometrica que se discutira más adelante.\n",
    "\n",
    "\n",
    "<div class=\"polaroid\">\n",
    "   <img src=\"./Varios/ncproducto.svg\" alt=\"producto\">\n",
    "  <div class=\"despolaroid\">\n",
    "    <p>Producto de parejas ordenadas</p>\n",
    "  </div>\n",
    "</div>\n",
    "\n",
    "\n",
    "<p>\n",
    "Por ejemplo:<br>\n",
    "</p>\n",
    "\n",
    "\n",
    "<p>\n",
    "Si $z_1=(-1,0)$ y $z_2=(2.8,0)$ entonces $z_1z_2=(-2.8,0)$, <br>\n",
    "\n",
    "Si $z_1=(1,1)$ y $z_2=(-3,2)$ entonces $f_{p}(z_1,z_2)=(-5,-1)$, <br>\n",
    "\n",
    "Si $z_1=(0,7)$ y $z_2=(0,2)$ entonces $z_1z_2=(-14,0)$, <br>\n",
    "\n",
    "Si $z_1=(0,0)$ y $z_2=(0,0)$ entonces $z_1z_2=(0,0)$, <br>\n",
    "\n",
    "Si $z_1=(3,1)$ y $z_2=(4,2)$ entonces $z_1z_2=(10,10)$,\n",
    "</p>\n",
    "\n",
    "\n",
    "##### Visualización\n",
    "\n",
    "<div class=\"visual\">\n",
    "<p>\n",
    "Para obervar la representación gráfica ejecute la siguiente celda con la instrucción\n",
    "</p>\n",
    "\n",
    "<pre>\n",
    " ncproducto(1,1,-3,2)\n",
    "</pre>\n",
    "\n",
    "<p>\n",
    "Se gráfica el elemento correspondiente y se puede modificar al interactuar con la interfaz,\n",
    "</p>\n"
   ]
  },
  {
   "cell_type": "code",
   "execution_count": 19,
   "metadata": {},
   "outputs": [
    {
     "data": {
      "application/vnd.jupyter.widget-view+json": {
       "model_id": "1fd7c08f97774e2d99a40008322fd861",
       "version_major": 2,
       "version_minor": 0
      },
      "text/plain": [
       "A Jupyter Widget"
      ]
     },
     "metadata": {},
     "output_type": "display_data"
    },
    {
     "data": {
      "application/vnd.jupyter.widget-view+json": {
       "model_id": "1a760c9f8a9e468a9438208eb5d80e88",
       "version_major": 2,
       "version_minor": 0
      },
      "text/plain": [
       "A Jupyter Widget"
      ]
     },
     "metadata": {},
     "output_type": "display_data"
    }
   ],
   "source": [
    " ncproducto(1,1,-3,2)"
   ]
  },
  {
   "cell_type": "markdown",
   "metadata": {},
   "source": [
    "<p>De manera analoga a la resta, la división es una consecuencia del inverso multiplicativo y el producto </p>\n",
    "\n",
    "<div class='def'>\n",
    "<strong>Definición 1.3</strong> <em>[División]</em>\n",
    "<p>\n",
    " Sean $z_1=(a,b)\\in\\mathbb{R}^2$ y $z_2=(c,d)\\in\\mathbb{R}^2-\\{(0,0)\\}$ la operación división $f_d:\\mathbb{R}^2\\times\\mathbb{R}^2-\\{(0,0)\\}\\rightarrow\\mathbb{R}^2$ se define como \n",
    " $$f_d\\left(z_1,z_2\\right)=f_p(z_1,f_{im}(z_2))$$\n",
    " o utilizando una notación abreviada,\n",
    " $$\\frac{z_1}{z_2}=z_1*\\frac{1}{z_2}=z_1z_2^{-1}$$\n",
    "</p>\n",
    "</div>\n",
    "\n",
    "<p>En palabras: <u><big><em>La división de parejas ordenadas $z_1,\\,z_2$ es el producto de $z_1$ con el inverso multiplicativo de $z_2$ </em></big></u></p>\n",
    "\n",
    "<p>Es decir, la división no es una \"nueva\" operación, es una operación especifica de una operación unaria y otra binaria  que ya se han definido. Por consiguiente la división de $z_1$ entre $z_2$ no esta definida cuando $z_2=(0,0)$, pues el inverso multiplicativo de $(0,0)$ no esta definido. </p>\n",
    "\n",
    "\n",
    "<div class=\"polaroid\">\n",
    "   <img src=\"./Varios/ncdivision.svg\" alt=\"division\">\n",
    "  <div class=\"despolaroid\">\n",
    "    <p>División de parejas ordenadas</p>\n",
    "  </div>\n",
    "</div>\n",
    "\n",
    "\n",
    "<p>\n",
    "Por ejemplo:<br>\n",
    "</p>\n",
    "\n",
    "\n",
    "<p>\n",
    "Si $z_1=(2,0)$ y $z_2=(2.3,0)$ entonces $z_1/z_2=(0.87,0)$, <br>\n",
    "\n",
    "Si $z_1=(-3.4,-4.1)$ y $z_2=(2,-1)$ entonces $f_{d}(z_1,z_2)=(-0.54,-2.32)$, <br>\n",
    "\n",
    "Si $z_1=(0,0)$ y $z_2=(-5,2.3)$ entonces $z_1/z_2=(0,0)$, <br>\n",
    "\n",
    "Si $z_1=(0,0)$ y $z_2=(0,0)$ entonces $z_1/z_2$ no esta definido <br>\n",
    "\n",
    "Si $z_1=(-1,-2)$ y $z_2=(2,2)$ entonces $z_1z_2^{-1}=(-0.75,-0.25)$,\n",
    "</p>\n",
    "\n",
    "<p>La interpretación geometríca de la resta se discutira más adelante.</p>\n",
    "\n",
    "##### Visualización\n",
    "\n",
    "<div class=\"visual\">\n",
    "<p>\n",
    "Para obervar la representación gráfica ejecute la siguiente celda con la instrucción\n",
    "</p>\n",
    "\n",
    "<pre>\n",
    " ncdivision(-1,-2,2,2)\n",
    "</pre>\n",
    "\n",
    "<p>\n",
    "Se gráfica el elemento correspondiente y se puede modificar al interactuar con la interfaz,\n",
    "</p>\n",
    "\n",
    "\n",
    "\n"
   ]
  },
  {
   "cell_type": "code",
   "execution_count": 6,
   "metadata": {},
   "outputs": [
    {
     "data": {
      "application/vnd.jupyter.widget-view+json": {
       "model_id": "d99acceb212d450e96a7b37fe0d2cce2",
       "version_major": 2,
       "version_minor": 0
      },
      "text/plain": [
       "A Jupyter Widget"
      ]
     },
     "metadata": {},
     "output_type": "display_data"
    },
    {
     "data": {
      "application/vnd.jupyter.widget-view+json": {
       "model_id": "c3c70bc170ff4730b49d02ad6048a9cb",
       "version_major": 2,
       "version_minor": 0
      },
      "text/plain": [
       "A Jupyter Widget"
      ]
     },
     "metadata": {},
     "output_type": "display_data"
    }
   ],
   "source": [
    "ncdivision(-1,-2,2,2)"
   ]
  },
  {
   "cell_type": "markdown",
   "metadata": {},
   "source": [
    "<div class='problemas'>\n",
    "<strong>Problemas</strong> \n",
    "<ol>\n",
    "<li><p> Encuentra una fórmula cerrada para definir la división $f_d(z_1,z_2)$, si $z_1=(a,b)$ y $z_2=(c,d)\\neq(0,0)$ </p> </li>\n",
    "</ol>\n",
    "</div>"
   ]
  }
 ],
 "metadata": {
  "anaconda-cloud": {},
  "kernelspec": {
   "display_name": "Python [default]",
   "language": "python",
   "name": "python2"
  },
  "language_info": {
   "codemirror_mode": {
    "name": "ipython",
    "version": 2
   },
   "file_extension": ".py",
   "mimetype": "text/x-python",
   "name": "python",
   "nbconvert_exporter": "python",
   "pygments_lexer": "ipython2",
   "version": "2.7.12"
  }
 },
 "nbformat": 4,
 "nbformat_minor": 2
}
