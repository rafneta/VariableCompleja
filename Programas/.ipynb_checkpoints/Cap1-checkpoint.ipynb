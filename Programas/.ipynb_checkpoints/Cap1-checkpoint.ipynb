{
 "cells": [
  {
   "cell_type": "code",
   "execution_count": null,
   "metadata": {
    "collapsed": true
   },
   "outputs": [],
   "source": [
    "from Programas.nuco import *\n",
    "from Programas.nuscos import *\n",
    "from Programas.nc import *\n",
    "from Programas.ncconjugado import *\n",
    "from Programas.ncinversomul import *\n",
    "from Programas.ncinversoadi import *\n",
    "from Programas.ncsuma import *\n",
    "from Programas.ncresta import *\n",
    "from Programas.ncproducto import *\n",
    "from Programas.ncdivision import *\n",
    "form Programas.mapeoc import *"
   ]
  }
 ],
 "metadata": {
  "anaconda-cloud": {},
  "kernelspec": {
   "display_name": "Python 2",
   "language": "python",
   "name": "python2"
  },
  "language_info": {
   "codemirror_mode": {
    "name": "ipython",
    "version": 2
   },
   "file_extension": ".py",
   "mimetype": "text/x-python",
   "name": "python",
   "nbconvert_exporter": "python",
   "pygments_lexer": "ipython2",
   "version": "2.7.14"
  }
 },
 "nbformat": 4,
 "nbformat_minor": 2
}
