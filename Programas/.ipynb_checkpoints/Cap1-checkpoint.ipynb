{
 "cells": [
  {
   "cell_type": "code",
   "execution_count": null,
   "metadata": {
    "collapsed": true
   },
   "outputs": [],
   "source": [
    "from Programas.nuco import *\n",
    "from Programas.nuscos import *\n",
    "from Programas.nc import *\n",
    "from Programas.ncconjugado import *\n",
    "from Programas.ncinversomul import *\n",
    "from Programas.ncinversoadi import *\n",
    "from Programas.ncsuma import *\n",
    "from Programas.ncresta import *\n",
    "from Programas.ncproducto import *\n",
    "from Programas.ncdivision import *"
   ]
  }
 ],
 "metadata": {
  "anaconda-cloud": {},
  "kernelspec": {
   "display_name": "Python [conda root]",
   "language": "python",
   "name": "conda-root-py"
  },
  "language_info": {
   "codemirror_mode": {
    "name": "ipython",
    "version": 2
   },
   "file_extension": ".py",
   "mimetype": "text/x-python",
   "name": "python",
   "nbconvert_exporter": "python",
   "pygments_lexer": "ipython2",
   "version": "2.7.12"
  }
 },
 "nbformat": 4,
 "nbformat_minor": 2
}
